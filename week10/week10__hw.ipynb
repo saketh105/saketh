{
 "cells": [
  {
   "cell_type": "markdown",
   "metadata": {},
   "source": [
    "# Week 10 Homework\n",
    "\n",
    "Extend the following class and name this class `ModuleLister`\n",
    "\n",
    "This will find all unique modules in your homework and labs."
   ]
  },
  {
   "cell_type": "code",
   "execution_count": 8,
   "metadata": {},
   "outputs": [],
   "source": [
    "### DON'T CHANGE THIS CELL\n",
    "import os\n",
    "\n",
    "class FileProcessor:\n",
    "    \n",
    "    def __init__(self, path, file_types=['.ipynb']):\n",
    "        self.files = self.find_all_files(path, file_types)\n",
    "        print(f'{len(self.files)} file(s) found...')\n",
    "\n",
    "    \n",
    "    def find_all_files(self, path, file_types):\n",
    "        paths = []\n",
    "        for root, dirs, files in os.walk(path):\n",
    "            for file in files:\n",
    "                if any([file.endswith(ft) for ft in file_types]):\n",
    "                    path = os.path.join(root, file)\n",
    "                    # print(path)\n",
    "                    paths.append(path)\n",
    "        return paths\n",
    "    \n",
    "    def read_file(self, file_path, encoding='utf8'):\n",
    "        with open(file_path,encoding=encoding) as f:\n",
    "            return f.read()\n",
    "    \n",
    "    def start(self):\n",
    "        \"\"\"\n",
    "        Entry point for the class\n",
    "        \"\"\"\n",
    "        for file in self.files:\n",
    "            self.process_file(file)\n",
    "        \n",
    "    def process_file(self, file_path):\n",
    "        \"\"\"\n",
    "        abstract method\n",
    "        \"\"\"\n",
    "        raise NotImplemented('process_file method not implemented')"
   ]
  },
  {
   "cell_type": "code",
   "execution_count": 17,
   "metadata": {},
   "outputs": [
    {
     "name": "stdout",
     "output_type": "stream",
     "text": [
      "\n",
      "\n",
      "['    \"import os\\\\n\",\\n']\n",
      "\n",
      "\n",
      "['    \"import os\\\\n\",\\n', '      \"\\\\u001b[1;32m<ipython-input-15-bd73afd2615e>\\\\u001b[0m in \\\\u001b[0;36m<module>\\\\u001b[1;34m\\\\u001b[0m\\\\n\\\\u001b[0;32m      3\\\\u001b[0m \\\\u001b[1;32mimport\\\\u001b[0m \\\\u001b[0mpathlib\\\\u001b[0m\\\\u001b[1;33m\\\\u001b[0m\\\\u001b[1;33m\\\\u001b[0m\\\\u001b[0m\\\\n\\\\u001b[0;32m      4\\\\u001b[0m \\\\u001b[0mdataLog\\\\u001b[0m \\\\u001b[1;33m=\\\\u001b[0m \\\\u001b[1;33m[\\\\u001b[0m\\\\u001b[1;33m]\\\\u001b[0m\\\\u001b[1;33m\\\\u001b[0m\\\\u001b[1;33m\\\\u001b[0m\\\\u001b[0m\\\\n\\\\u001b[1;32m----> 5\\\\u001b[1;33m \\\\u001b[1;32mclass\\\\u001b[0m \\\\u001b[0mModuleLister\\\\u001b[0m\\\\u001b[1;33m(\\\\u001b[0m\\\\u001b[0mFileProcessor\\\\u001b[0m\\\\u001b[1;33m)\\\\u001b[0m\\\\u001b[1;33m:\\\\u001b[0m\\\\u001b[1;33m\\\\u001b[0m\\\\u001b[1;33m\\\\u001b[0m\\\\u001b[0m\\\\n\\\\u001b[0m\\\\u001b[0;32m      6\\\\u001b[0m             \\\\u001b[1;32mwith\\\\u001b[0m \\\\u001b[0mopen\\\\u001b[0m\\\\u001b[1;33m(\\\\u001b[0m\\\\u001b[1;34m\\\\\"C:\\\\\\\\\\\\\\\\Users\\\\\\\\\\\\\\\\boyap\\\\\\\\\\\\\\\\Desktop\\\\\\\\\\\\\\\\Data 601 files\\\\\\\\\\\\\\\\DATA601_HW03.ipynb\\\\\"\\\\u001b[0m\\\\u001b[1;33m)\\\\u001b[0m\\\\u001b[1;32mas\\\\u001b[0m \\\\u001b[0mf\\\\u001b[0m\\\\u001b[1;33m:\\\\u001b[0m\\\\u001b[1;33m\\\\u001b[0m\\\\u001b[1;33m\\\\u001b[0m\\\\u001b[0m\\\\n\\\\u001b[0;32m      7\\\\u001b[0m                 \\\\u001b[0mdata\\\\u001b[0m \\\\u001b[1;33m=\\\\u001b[0m \\\\u001b[0mf\\\\u001b[0m\\\\u001b[1;33m.\\\\u001b[0m\\\\u001b[0mreadlines\\\\u001b[0m\\\\u001b[1;33m(\\\\u001b[0m\\\\u001b[1;33m)\\\\u001b[0m\\\\u001b[1;33m\\\\u001b[0m\\\\u001b[1;33m\\\\u001b[0m\\\\u001b[0m\\\\n\",\\n']\n",
      "\n",
      "\n",
      "['    \"import os\\\\n\",\\n', '      \"\\\\u001b[1;32m<ipython-input-15-bd73afd2615e>\\\\u001b[0m in \\\\u001b[0;36m<module>\\\\u001b[1;34m\\\\u001b[0m\\\\n\\\\u001b[0;32m      3\\\\u001b[0m \\\\u001b[1;32mimport\\\\u001b[0m \\\\u001b[0mpathlib\\\\u001b[0m\\\\u001b[1;33m\\\\u001b[0m\\\\u001b[1;33m\\\\u001b[0m\\\\u001b[0m\\\\n\\\\u001b[0;32m      4\\\\u001b[0m \\\\u001b[0mdataLog\\\\u001b[0m \\\\u001b[1;33m=\\\\u001b[0m \\\\u001b[1;33m[\\\\u001b[0m\\\\u001b[1;33m]\\\\u001b[0m\\\\u001b[1;33m\\\\u001b[0m\\\\u001b[1;33m\\\\u001b[0m\\\\u001b[0m\\\\n\\\\u001b[1;32m----> 5\\\\u001b[1;33m \\\\u001b[1;32mclass\\\\u001b[0m \\\\u001b[0mModuleLister\\\\u001b[0m\\\\u001b[1;33m(\\\\u001b[0m\\\\u001b[0mFileProcessor\\\\u001b[0m\\\\u001b[1;33m)\\\\u001b[0m\\\\u001b[1;33m:\\\\u001b[0m\\\\u001b[1;33m\\\\u001b[0m\\\\u001b[1;33m\\\\u001b[0m\\\\u001b[0m\\\\n\\\\u001b[0m\\\\u001b[0;32m      6\\\\u001b[0m             \\\\u001b[1;32mwith\\\\u001b[0m \\\\u001b[0mopen\\\\u001b[0m\\\\u001b[1;33m(\\\\u001b[0m\\\\u001b[1;34m\\\\\"C:\\\\\\\\\\\\\\\\Users\\\\\\\\\\\\\\\\boyap\\\\\\\\\\\\\\\\Desktop\\\\\\\\\\\\\\\\Data 601 files\\\\\\\\\\\\\\\\DATA601_HW03.ipynb\\\\\"\\\\u001b[0m\\\\u001b[1;33m)\\\\u001b[0m\\\\u001b[1;32mas\\\\u001b[0m \\\\u001b[0mf\\\\u001b[0m\\\\u001b[1;33m:\\\\u001b[0m\\\\u001b[1;33m\\\\u001b[0m\\\\u001b[1;33m\\\\u001b[0m\\\\u001b[0m\\\\n\\\\u001b[0;32m      7\\\\u001b[0m                 \\\\u001b[0mdata\\\\u001b[0m \\\\u001b[1;33m=\\\\u001b[0m \\\\u001b[0mf\\\\u001b[0m\\\\u001b[1;33m.\\\\u001b[0m\\\\u001b[0mreadlines\\\\u001b[0m\\\\u001b[1;33m(\\\\u001b[0m\\\\u001b[1;33m)\\\\u001b[0m\\\\u001b[1;33m\\\\u001b[0m\\\\u001b[1;33m\\\\u001b[0m\\\\u001b[0m\\\\n\",\\n', '    \"import os\\\\n\",\\n']\n",
      "\n",
      "\n",
      "['    \"import os\\\\n\",\\n', '      \"\\\\u001b[1;32m<ipython-input-15-bd73afd2615e>\\\\u001b[0m in \\\\u001b[0;36m<module>\\\\u001b[1;34m\\\\u001b[0m\\\\n\\\\u001b[0;32m      3\\\\u001b[0m \\\\u001b[1;32mimport\\\\u001b[0m \\\\u001b[0mpathlib\\\\u001b[0m\\\\u001b[1;33m\\\\u001b[0m\\\\u001b[1;33m\\\\u001b[0m\\\\u001b[0m\\\\n\\\\u001b[0;32m      4\\\\u001b[0m \\\\u001b[0mdataLog\\\\u001b[0m \\\\u001b[1;33m=\\\\u001b[0m \\\\u001b[1;33m[\\\\u001b[0m\\\\u001b[1;33m]\\\\u001b[0m\\\\u001b[1;33m\\\\u001b[0m\\\\u001b[1;33m\\\\u001b[0m\\\\u001b[0m\\\\n\\\\u001b[1;32m----> 5\\\\u001b[1;33m \\\\u001b[1;32mclass\\\\u001b[0m \\\\u001b[0mModuleLister\\\\u001b[0m\\\\u001b[1;33m(\\\\u001b[0m\\\\u001b[0mFileProcessor\\\\u001b[0m\\\\u001b[1;33m)\\\\u001b[0m\\\\u001b[1;33m:\\\\u001b[0m\\\\u001b[1;33m\\\\u001b[0m\\\\u001b[1;33m\\\\u001b[0m\\\\u001b[0m\\\\n\\\\u001b[0m\\\\u001b[0;32m      6\\\\u001b[0m             \\\\u001b[1;32mwith\\\\u001b[0m \\\\u001b[0mopen\\\\u001b[0m\\\\u001b[1;33m(\\\\u001b[0m\\\\u001b[1;34m\\\\\"C:\\\\\\\\\\\\\\\\Users\\\\\\\\\\\\\\\\boyap\\\\\\\\\\\\\\\\Desktop\\\\\\\\\\\\\\\\Data 601 files\\\\\\\\\\\\\\\\DATA601_HW03.ipynb\\\\\"\\\\u001b[0m\\\\u001b[1;33m)\\\\u001b[0m\\\\u001b[1;32mas\\\\u001b[0m \\\\u001b[0mf\\\\u001b[0m\\\\u001b[1;33m:\\\\u001b[0m\\\\u001b[1;33m\\\\u001b[0m\\\\u001b[1;33m\\\\u001b[0m\\\\u001b[0m\\\\n\\\\u001b[0;32m      7\\\\u001b[0m                 \\\\u001b[0mdata\\\\u001b[0m \\\\u001b[1;33m=\\\\u001b[0m \\\\u001b[0mf\\\\u001b[0m\\\\u001b[1;33m.\\\\u001b[0m\\\\u001b[0mreadlines\\\\u001b[0m\\\\u001b[1;33m(\\\\u001b[0m\\\\u001b[1;33m)\\\\u001b[0m\\\\u001b[1;33m\\\\u001b[0m\\\\u001b[1;33m\\\\u001b[0m\\\\u001b[0m\\\\n\",\\n', '    \"import os\\\\n\",\\n', '    \"import pathlib\\\\n\",\\n']\n",
      "\n",
      "\n",
      "['    \"import os\\\\n\",\\n', '      \"\\\\u001b[1;32m<ipython-input-15-bd73afd2615e>\\\\u001b[0m in \\\\u001b[0;36m<module>\\\\u001b[1;34m\\\\u001b[0m\\\\n\\\\u001b[0;32m      3\\\\u001b[0m \\\\u001b[1;32mimport\\\\u001b[0m \\\\u001b[0mpathlib\\\\u001b[0m\\\\u001b[1;33m\\\\u001b[0m\\\\u001b[1;33m\\\\u001b[0m\\\\u001b[0m\\\\n\\\\u001b[0;32m      4\\\\u001b[0m \\\\u001b[0mdataLog\\\\u001b[0m \\\\u001b[1;33m=\\\\u001b[0m \\\\u001b[1;33m[\\\\u001b[0m\\\\u001b[1;33m]\\\\u001b[0m\\\\u001b[1;33m\\\\u001b[0m\\\\u001b[1;33m\\\\u001b[0m\\\\u001b[0m\\\\n\\\\u001b[1;32m----> 5\\\\u001b[1;33m \\\\u001b[1;32mclass\\\\u001b[0m \\\\u001b[0mModuleLister\\\\u001b[0m\\\\u001b[1;33m(\\\\u001b[0m\\\\u001b[0mFileProcessor\\\\u001b[0m\\\\u001b[1;33m)\\\\u001b[0m\\\\u001b[1;33m:\\\\u001b[0m\\\\u001b[1;33m\\\\u001b[0m\\\\u001b[1;33m\\\\u001b[0m\\\\u001b[0m\\\\n\\\\u001b[0m\\\\u001b[0;32m      6\\\\u001b[0m             \\\\u001b[1;32mwith\\\\u001b[0m \\\\u001b[0mopen\\\\u001b[0m\\\\u001b[1;33m(\\\\u001b[0m\\\\u001b[1;34m\\\\\"C:\\\\\\\\\\\\\\\\Users\\\\\\\\\\\\\\\\boyap\\\\\\\\\\\\\\\\Desktop\\\\\\\\\\\\\\\\Data 601 files\\\\\\\\\\\\\\\\DATA601_HW03.ipynb\\\\\"\\\\u001b[0m\\\\u001b[1;33m)\\\\u001b[0m\\\\u001b[1;32mas\\\\u001b[0m \\\\u001b[0mf\\\\u001b[0m\\\\u001b[1;33m:\\\\u001b[0m\\\\u001b[1;33m\\\\u001b[0m\\\\u001b[1;33m\\\\u001b[0m\\\\u001b[0m\\\\n\\\\u001b[0;32m      7\\\\u001b[0m                 \\\\u001b[0mdata\\\\u001b[0m \\\\u001b[1;33m=\\\\u001b[0m \\\\u001b[0mf\\\\u001b[0m\\\\u001b[1;33m.\\\\u001b[0m\\\\u001b[0mreadlines\\\\u001b[0m\\\\u001b[1;33m(\\\\u001b[0m\\\\u001b[1;33m)\\\\u001b[0m\\\\u001b[1;33m\\\\u001b[0m\\\\u001b[1;33m\\\\u001b[0m\\\\u001b[0m\\\\n\",\\n', '    \"import os\\\\n\",\\n', '    \"import pathlib\\\\n\",\\n', '    \"                    if \\'import\\' in line:\\\\n\",\\n']\n",
      "\n",
      "\n",
      "['    \"import os\\\\n\",\\n', '      \"\\\\u001b[1;32m<ipython-input-15-bd73afd2615e>\\\\u001b[0m in \\\\u001b[0;36m<module>\\\\u001b[1;34m\\\\u001b[0m\\\\n\\\\u001b[0;32m      3\\\\u001b[0m \\\\u001b[1;32mimport\\\\u001b[0m \\\\u001b[0mpathlib\\\\u001b[0m\\\\u001b[1;33m\\\\u001b[0m\\\\u001b[1;33m\\\\u001b[0m\\\\u001b[0m\\\\n\\\\u001b[0;32m      4\\\\u001b[0m \\\\u001b[0mdataLog\\\\u001b[0m \\\\u001b[1;33m=\\\\u001b[0m \\\\u001b[1;33m[\\\\u001b[0m\\\\u001b[1;33m]\\\\u001b[0m\\\\u001b[1;33m\\\\u001b[0m\\\\u001b[1;33m\\\\u001b[0m\\\\u001b[0m\\\\n\\\\u001b[1;32m----> 5\\\\u001b[1;33m \\\\u001b[1;32mclass\\\\u001b[0m \\\\u001b[0mModuleLister\\\\u001b[0m\\\\u001b[1;33m(\\\\u001b[0m\\\\u001b[0mFileProcessor\\\\u001b[0m\\\\u001b[1;33m)\\\\u001b[0m\\\\u001b[1;33m:\\\\u001b[0m\\\\u001b[1;33m\\\\u001b[0m\\\\u001b[1;33m\\\\u001b[0m\\\\u001b[0m\\\\n\\\\u001b[0m\\\\u001b[0;32m      6\\\\u001b[0m             \\\\u001b[1;32mwith\\\\u001b[0m \\\\u001b[0mopen\\\\u001b[0m\\\\u001b[1;33m(\\\\u001b[0m\\\\u001b[1;34m\\\\\"C:\\\\\\\\\\\\\\\\Users\\\\\\\\\\\\\\\\boyap\\\\\\\\\\\\\\\\Desktop\\\\\\\\\\\\\\\\Data 601 files\\\\\\\\\\\\\\\\DATA601_HW03.ipynb\\\\\"\\\\u001b[0m\\\\u001b[1;33m)\\\\u001b[0m\\\\u001b[1;32mas\\\\u001b[0m \\\\u001b[0mf\\\\u001b[0m\\\\u001b[1;33m:\\\\u001b[0m\\\\u001b[1;33m\\\\u001b[0m\\\\u001b[1;33m\\\\u001b[0m\\\\u001b[0m\\\\n\\\\u001b[0;32m      7\\\\u001b[0m                 \\\\u001b[0mdata\\\\u001b[0m \\\\u001b[1;33m=\\\\u001b[0m \\\\u001b[0mf\\\\u001b[0m\\\\u001b[1;33m.\\\\u001b[0m\\\\u001b[0mreadlines\\\\u001b[0m\\\\u001b[1;33m(\\\\u001b[0m\\\\u001b[1;33m)\\\\u001b[0m\\\\u001b[1;33m\\\\u001b[0m\\\\u001b[1;33m\\\\u001b[0m\\\\u001b[0m\\\\n\",\\n', '    \"import os\\\\n\",\\n', '    \"import pathlib\\\\n\",\\n', '    \"                    if \\'import\\' in line:\\\\n\",\\n', '      \"\\\\u001b[1;32m<ipython-input-13-20af1931a34e>\\\\u001b[0m in \\\\u001b[0;36m<module>\\\\u001b[1;34m\\\\u001b[0m\\\\n\\\\u001b[0;32m      1\\\\u001b[0m \\\\u001b[1;32mimport\\\\u001b[0m \\\\u001b[0mos\\\\u001b[0m\\\\u001b[1;33m\\\\u001b[0m\\\\u001b[1;33m\\\\u001b[0m\\\\u001b[0m\\\\n\\\\u001b[0;32m      2\\\\u001b[0m \\\\u001b[0mpath\\\\u001b[0m\\\\u001b[1;33m=\\\\u001b[0m\\\\u001b[1;34m\\'C:\\\\\\\\\\\\\\\\Users\\\\\\\\\\\\\\\\saket\\\\\\\\\\\\\\\\Downloads\\'\\\\u001b[0m\\\\u001b[1;33m\\\\u001b[0m\\\\u001b[1;33m\\\\u001b[0m\\\\u001b[0m\\\\n\\\\u001b[1;32m----> 3\\\\u001b[1;33m \\\\u001b[0mos\\\\u001b[0m\\\\u001b[1;33m.\\\\u001b[0m\\\\u001b[0mchdir\\\\u001b[0m\\\\u001b[1;33m(\\\\u001b[0m\\\\u001b[0mpath\\\\u001b[0m\\\\u001b[1;33m)\\\\u001b[0m\\\\u001b[1;33m\\\\u001b[0m\\\\u001b[1;33m\\\\u001b[0m\\\\u001b[0m\\\\n\\\\u001b[0m\\\\u001b[0;32m      4\\\\u001b[0m \\\\u001b[1;32mif\\\\u001b[0m \\\\u001b[1;32mnot\\\\u001b[0m \\\\u001b[0mos\\\\u001b[0m\\\\u001b[1;33m.\\\\u001b[0m\\\\u001b[0mpath\\\\u001b[0m\\\\u001b[1;33m.\\\\u001b[0m\\\\u001b[0mexists\\\\u001b[0m\\\\u001b[1;33m(\\\\u001b[0m\\\\u001b[0msearch_path\\\\u001b[0m\\\\u001b[1;33m)\\\\u001b[0m\\\\u001b[1;33m:\\\\u001b[0m\\\\u001b[1;33m\\\\u001b[0m\\\\u001b[1;33m\\\\u001b[0m\\\\u001b[0m\\\\n\\\\u001b[0;32m      5\\\\u001b[0m         \\\\u001b[0msearch_path\\\\u001b[0m \\\\u001b[1;33m=\\\\u001b[0m\\\\u001b[1;34m\\\\\".\\\\\"\\\\u001b[0m\\\\u001b[1;33m\\\\u001b[0m\\\\u001b[1;33m\\\\u001b[0m\\\\u001b[0m\\\\n\",\\n']\n",
      "\n",
      "\n",
      "['    \"import os\\\\n\",\\n', '      \"\\\\u001b[1;32m<ipython-input-15-bd73afd2615e>\\\\u001b[0m in \\\\u001b[0;36m<module>\\\\u001b[1;34m\\\\u001b[0m\\\\n\\\\u001b[0;32m      3\\\\u001b[0m \\\\u001b[1;32mimport\\\\u001b[0m \\\\u001b[0mpathlib\\\\u001b[0m\\\\u001b[1;33m\\\\u001b[0m\\\\u001b[1;33m\\\\u001b[0m\\\\u001b[0m\\\\n\\\\u001b[0;32m      4\\\\u001b[0m \\\\u001b[0mdataLog\\\\u001b[0m \\\\u001b[1;33m=\\\\u001b[0m \\\\u001b[1;33m[\\\\u001b[0m\\\\u001b[1;33m]\\\\u001b[0m\\\\u001b[1;33m\\\\u001b[0m\\\\u001b[1;33m\\\\u001b[0m\\\\u001b[0m\\\\n\\\\u001b[1;32m----> 5\\\\u001b[1;33m \\\\u001b[1;32mclass\\\\u001b[0m \\\\u001b[0mModuleLister\\\\u001b[0m\\\\u001b[1;33m(\\\\u001b[0m\\\\u001b[0mFileProcessor\\\\u001b[0m\\\\u001b[1;33m)\\\\u001b[0m\\\\u001b[1;33m:\\\\u001b[0m\\\\u001b[1;33m\\\\u001b[0m\\\\u001b[1;33m\\\\u001b[0m\\\\u001b[0m\\\\n\\\\u001b[0m\\\\u001b[0;32m      6\\\\u001b[0m             \\\\u001b[1;32mwith\\\\u001b[0m \\\\u001b[0mopen\\\\u001b[0m\\\\u001b[1;33m(\\\\u001b[0m\\\\u001b[1;34m\\\\\"C:\\\\\\\\\\\\\\\\Users\\\\\\\\\\\\\\\\boyap\\\\\\\\\\\\\\\\Desktop\\\\\\\\\\\\\\\\Data 601 files\\\\\\\\\\\\\\\\DATA601_HW03.ipynb\\\\\"\\\\u001b[0m\\\\u001b[1;33m)\\\\u001b[0m\\\\u001b[1;32mas\\\\u001b[0m \\\\u001b[0mf\\\\u001b[0m\\\\u001b[1;33m:\\\\u001b[0m\\\\u001b[1;33m\\\\u001b[0m\\\\u001b[1;33m\\\\u001b[0m\\\\u001b[0m\\\\n\\\\u001b[0;32m      7\\\\u001b[0m                 \\\\u001b[0mdata\\\\u001b[0m \\\\u001b[1;33m=\\\\u001b[0m \\\\u001b[0mf\\\\u001b[0m\\\\u001b[1;33m.\\\\u001b[0m\\\\u001b[0mreadlines\\\\u001b[0m\\\\u001b[1;33m(\\\\u001b[0m\\\\u001b[1;33m)\\\\u001b[0m\\\\u001b[1;33m\\\\u001b[0m\\\\u001b[1;33m\\\\u001b[0m\\\\u001b[0m\\\\n\",\\n', '    \"import os\\\\n\",\\n', '    \"import pathlib\\\\n\",\\n', '    \"                    if \\'import\\' in line:\\\\n\",\\n', '      \"\\\\u001b[1;32m<ipython-input-13-20af1931a34e>\\\\u001b[0m in \\\\u001b[0;36m<module>\\\\u001b[1;34m\\\\u001b[0m\\\\n\\\\u001b[0;32m      1\\\\u001b[0m \\\\u001b[1;32mimport\\\\u001b[0m \\\\u001b[0mos\\\\u001b[0m\\\\u001b[1;33m\\\\u001b[0m\\\\u001b[1;33m\\\\u001b[0m\\\\u001b[0m\\\\n\\\\u001b[0;32m      2\\\\u001b[0m \\\\u001b[0mpath\\\\u001b[0m\\\\u001b[1;33m=\\\\u001b[0m\\\\u001b[1;34m\\'C:\\\\\\\\\\\\\\\\Users\\\\\\\\\\\\\\\\saket\\\\\\\\\\\\\\\\Downloads\\'\\\\u001b[0m\\\\u001b[1;33m\\\\u001b[0m\\\\u001b[1;33m\\\\u001b[0m\\\\u001b[0m\\\\n\\\\u001b[1;32m----> 3\\\\u001b[1;33m \\\\u001b[0mos\\\\u001b[0m\\\\u001b[1;33m.\\\\u001b[0m\\\\u001b[0mchdir\\\\u001b[0m\\\\u001b[1;33m(\\\\u001b[0m\\\\u001b[0mpath\\\\u001b[0m\\\\u001b[1;33m)\\\\u001b[0m\\\\u001b[1;33m\\\\u001b[0m\\\\u001b[1;33m\\\\u001b[0m\\\\u001b[0m\\\\n\\\\u001b[0m\\\\u001b[0;32m      4\\\\u001b[0m \\\\u001b[1;32mif\\\\u001b[0m \\\\u001b[1;32mnot\\\\u001b[0m \\\\u001b[0mos\\\\u001b[0m\\\\u001b[1;33m.\\\\u001b[0m\\\\u001b[0mpath\\\\u001b[0m\\\\u001b[1;33m.\\\\u001b[0m\\\\u001b[0mexists\\\\u001b[0m\\\\u001b[1;33m(\\\\u001b[0m\\\\u001b[0msearch_path\\\\u001b[0m\\\\u001b[1;33m)\\\\u001b[0m\\\\u001b[1;33m:\\\\u001b[0m\\\\u001b[1;33m\\\\u001b[0m\\\\u001b[1;33m\\\\u001b[0m\\\\u001b[0m\\\\n\\\\u001b[0;32m      5\\\\u001b[0m         \\\\u001b[0msearch_path\\\\u001b[0m \\\\u001b[1;33m=\\\\u001b[0m\\\\u001b[1;34m\\\\\".\\\\\"\\\\u001b[0m\\\\u001b[1;33m\\\\u001b[0m\\\\u001b[1;33m\\\\u001b[0m\\\\u001b[0m\\\\n\",\\n', '    \"import os \\\\n\",\\n']\n",
      "\n",
      "\n",
      "['    \"import os\\\\n\",\\n', '      \"\\\\u001b[1;32m<ipython-input-15-bd73afd2615e>\\\\u001b[0m in \\\\u001b[0;36m<module>\\\\u001b[1;34m\\\\u001b[0m\\\\n\\\\u001b[0;32m      3\\\\u001b[0m \\\\u001b[1;32mimport\\\\u001b[0m \\\\u001b[0mpathlib\\\\u001b[0m\\\\u001b[1;33m\\\\u001b[0m\\\\u001b[1;33m\\\\u001b[0m\\\\u001b[0m\\\\n\\\\u001b[0;32m      4\\\\u001b[0m \\\\u001b[0mdataLog\\\\u001b[0m \\\\u001b[1;33m=\\\\u001b[0m \\\\u001b[1;33m[\\\\u001b[0m\\\\u001b[1;33m]\\\\u001b[0m\\\\u001b[1;33m\\\\u001b[0m\\\\u001b[1;33m\\\\u001b[0m\\\\u001b[0m\\\\n\\\\u001b[1;32m----> 5\\\\u001b[1;33m \\\\u001b[1;32mclass\\\\u001b[0m \\\\u001b[0mModuleLister\\\\u001b[0m\\\\u001b[1;33m(\\\\u001b[0m\\\\u001b[0mFileProcessor\\\\u001b[0m\\\\u001b[1;33m)\\\\u001b[0m\\\\u001b[1;33m:\\\\u001b[0m\\\\u001b[1;33m\\\\u001b[0m\\\\u001b[1;33m\\\\u001b[0m\\\\u001b[0m\\\\n\\\\u001b[0m\\\\u001b[0;32m      6\\\\u001b[0m             \\\\u001b[1;32mwith\\\\u001b[0m \\\\u001b[0mopen\\\\u001b[0m\\\\u001b[1;33m(\\\\u001b[0m\\\\u001b[1;34m\\\\\"C:\\\\\\\\\\\\\\\\Users\\\\\\\\\\\\\\\\boyap\\\\\\\\\\\\\\\\Desktop\\\\\\\\\\\\\\\\Data 601 files\\\\\\\\\\\\\\\\DATA601_HW03.ipynb\\\\\"\\\\u001b[0m\\\\u001b[1;33m)\\\\u001b[0m\\\\u001b[1;32mas\\\\u001b[0m \\\\u001b[0mf\\\\u001b[0m\\\\u001b[1;33m:\\\\u001b[0m\\\\u001b[1;33m\\\\u001b[0m\\\\u001b[1;33m\\\\u001b[0m\\\\u001b[0m\\\\n\\\\u001b[0;32m      7\\\\u001b[0m                 \\\\u001b[0mdata\\\\u001b[0m \\\\u001b[1;33m=\\\\u001b[0m \\\\u001b[0mf\\\\u001b[0m\\\\u001b[1;33m.\\\\u001b[0m\\\\u001b[0mreadlines\\\\u001b[0m\\\\u001b[1;33m(\\\\u001b[0m\\\\u001b[1;33m)\\\\u001b[0m\\\\u001b[1;33m\\\\u001b[0m\\\\u001b[1;33m\\\\u001b[0m\\\\u001b[0m\\\\n\",\\n', '    \"import os\\\\n\",\\n', '    \"import pathlib\\\\n\",\\n', '    \"                    if \\'import\\' in line:\\\\n\",\\n', '      \"\\\\u001b[1;32m<ipython-input-13-20af1931a34e>\\\\u001b[0m in \\\\u001b[0;36m<module>\\\\u001b[1;34m\\\\u001b[0m\\\\n\\\\u001b[0;32m      1\\\\u001b[0m \\\\u001b[1;32mimport\\\\u001b[0m \\\\u001b[0mos\\\\u001b[0m\\\\u001b[1;33m\\\\u001b[0m\\\\u001b[1;33m\\\\u001b[0m\\\\u001b[0m\\\\n\\\\u001b[0;32m      2\\\\u001b[0m \\\\u001b[0mpath\\\\u001b[0m\\\\u001b[1;33m=\\\\u001b[0m\\\\u001b[1;34m\\'C:\\\\\\\\\\\\\\\\Users\\\\\\\\\\\\\\\\saket\\\\\\\\\\\\\\\\Downloads\\'\\\\u001b[0m\\\\u001b[1;33m\\\\u001b[0m\\\\u001b[1;33m\\\\u001b[0m\\\\u001b[0m\\\\n\\\\u001b[1;32m----> 3\\\\u001b[1;33m \\\\u001b[0mos\\\\u001b[0m\\\\u001b[1;33m.\\\\u001b[0m\\\\u001b[0mchdir\\\\u001b[0m\\\\u001b[1;33m(\\\\u001b[0m\\\\u001b[0mpath\\\\u001b[0m\\\\u001b[1;33m)\\\\u001b[0m\\\\u001b[1;33m\\\\u001b[0m\\\\u001b[1;33m\\\\u001b[0m\\\\u001b[0m\\\\n\\\\u001b[0m\\\\u001b[0;32m      4\\\\u001b[0m \\\\u001b[1;32mif\\\\u001b[0m \\\\u001b[1;32mnot\\\\u001b[0m \\\\u001b[0mos\\\\u001b[0m\\\\u001b[1;33m.\\\\u001b[0m\\\\u001b[0mpath\\\\u001b[0m\\\\u001b[1;33m.\\\\u001b[0m\\\\u001b[0mexists\\\\u001b[0m\\\\u001b[1;33m(\\\\u001b[0m\\\\u001b[0msearch_path\\\\u001b[0m\\\\u001b[1;33m)\\\\u001b[0m\\\\u001b[1;33m:\\\\u001b[0m\\\\u001b[1;33m\\\\u001b[0m\\\\u001b[1;33m\\\\u001b[0m\\\\u001b[0m\\\\n\\\\u001b[0;32m      5\\\\u001b[0m         \\\\u001b[0msearch_path\\\\u001b[0m \\\\u001b[1;33m=\\\\u001b[0m\\\\u001b[1;34m\\\\\".\\\\\"\\\\u001b[0m\\\\u001b[1;33m\\\\u001b[0m\\\\u001b[1;33m\\\\u001b[0m\\\\u001b[0m\\\\n\",\\n', '    \"import os \\\\n\",\\n', '    \"                    if \\'import\\' in file.read():\\\\n\",\\n']\n",
      "\n",
      "\n",
      "['    \"import os\\\\n\",\\n', '      \"\\\\u001b[1;32m<ipython-input-15-bd73afd2615e>\\\\u001b[0m in \\\\u001b[0;36m<module>\\\\u001b[1;34m\\\\u001b[0m\\\\n\\\\u001b[0;32m      3\\\\u001b[0m \\\\u001b[1;32mimport\\\\u001b[0m \\\\u001b[0mpathlib\\\\u001b[0m\\\\u001b[1;33m\\\\u001b[0m\\\\u001b[1;33m\\\\u001b[0m\\\\u001b[0m\\\\n\\\\u001b[0;32m      4\\\\u001b[0m \\\\u001b[0mdataLog\\\\u001b[0m \\\\u001b[1;33m=\\\\u001b[0m \\\\u001b[1;33m[\\\\u001b[0m\\\\u001b[1;33m]\\\\u001b[0m\\\\u001b[1;33m\\\\u001b[0m\\\\u001b[1;33m\\\\u001b[0m\\\\u001b[0m\\\\n\\\\u001b[1;32m----> 5\\\\u001b[1;33m \\\\u001b[1;32mclass\\\\u001b[0m \\\\u001b[0mModuleLister\\\\u001b[0m\\\\u001b[1;33m(\\\\u001b[0m\\\\u001b[0mFileProcessor\\\\u001b[0m\\\\u001b[1;33m)\\\\u001b[0m\\\\u001b[1;33m:\\\\u001b[0m\\\\u001b[1;33m\\\\u001b[0m\\\\u001b[1;33m\\\\u001b[0m\\\\u001b[0m\\\\n\\\\u001b[0m\\\\u001b[0;32m      6\\\\u001b[0m             \\\\u001b[1;32mwith\\\\u001b[0m \\\\u001b[0mopen\\\\u001b[0m\\\\u001b[1;33m(\\\\u001b[0m\\\\u001b[1;34m\\\\\"C:\\\\\\\\\\\\\\\\Users\\\\\\\\\\\\\\\\boyap\\\\\\\\\\\\\\\\Desktop\\\\\\\\\\\\\\\\Data 601 files\\\\\\\\\\\\\\\\DATA601_HW03.ipynb\\\\\"\\\\u001b[0m\\\\u001b[1;33m)\\\\u001b[0m\\\\u001b[1;32mas\\\\u001b[0m \\\\u001b[0mf\\\\u001b[0m\\\\u001b[1;33m:\\\\u001b[0m\\\\u001b[1;33m\\\\u001b[0m\\\\u001b[1;33m\\\\u001b[0m\\\\u001b[0m\\\\n\\\\u001b[0;32m      7\\\\u001b[0m                 \\\\u001b[0mdata\\\\u001b[0m \\\\u001b[1;33m=\\\\u001b[0m \\\\u001b[0mf\\\\u001b[0m\\\\u001b[1;33m.\\\\u001b[0m\\\\u001b[0mreadlines\\\\u001b[0m\\\\u001b[1;33m(\\\\u001b[0m\\\\u001b[1;33m)\\\\u001b[0m\\\\u001b[1;33m\\\\u001b[0m\\\\u001b[1;33m\\\\u001b[0m\\\\u001b[0m\\\\n\",\\n', '    \"import os\\\\n\",\\n', '    \"import pathlib\\\\n\",\\n', '    \"                    if \\'import\\' in line:\\\\n\",\\n', '      \"\\\\u001b[1;32m<ipython-input-13-20af1931a34e>\\\\u001b[0m in \\\\u001b[0;36m<module>\\\\u001b[1;34m\\\\u001b[0m\\\\n\\\\u001b[0;32m      1\\\\u001b[0m \\\\u001b[1;32mimport\\\\u001b[0m \\\\u001b[0mos\\\\u001b[0m\\\\u001b[1;33m\\\\u001b[0m\\\\u001b[1;33m\\\\u001b[0m\\\\u001b[0m\\\\n\\\\u001b[0;32m      2\\\\u001b[0m \\\\u001b[0mpath\\\\u001b[0m\\\\u001b[1;33m=\\\\u001b[0m\\\\u001b[1;34m\\'C:\\\\\\\\\\\\\\\\Users\\\\\\\\\\\\\\\\saket\\\\\\\\\\\\\\\\Downloads\\'\\\\u001b[0m\\\\u001b[1;33m\\\\u001b[0m\\\\u001b[1;33m\\\\u001b[0m\\\\u001b[0m\\\\n\\\\u001b[1;32m----> 3\\\\u001b[1;33m \\\\u001b[0mos\\\\u001b[0m\\\\u001b[1;33m.\\\\u001b[0m\\\\u001b[0mchdir\\\\u001b[0m\\\\u001b[1;33m(\\\\u001b[0m\\\\u001b[0mpath\\\\u001b[0m\\\\u001b[1;33m)\\\\u001b[0m\\\\u001b[1;33m\\\\u001b[0m\\\\u001b[1;33m\\\\u001b[0m\\\\u001b[0m\\\\n\\\\u001b[0m\\\\u001b[0;32m      4\\\\u001b[0m \\\\u001b[1;32mif\\\\u001b[0m \\\\u001b[1;32mnot\\\\u001b[0m \\\\u001b[0mos\\\\u001b[0m\\\\u001b[1;33m.\\\\u001b[0m\\\\u001b[0mpath\\\\u001b[0m\\\\u001b[1;33m.\\\\u001b[0m\\\\u001b[0mexists\\\\u001b[0m\\\\u001b[1;33m(\\\\u001b[0m\\\\u001b[0msearch_path\\\\u001b[0m\\\\u001b[1;33m)\\\\u001b[0m\\\\u001b[1;33m:\\\\u001b[0m\\\\u001b[1;33m\\\\u001b[0m\\\\u001b[1;33m\\\\u001b[0m\\\\u001b[0m\\\\n\\\\u001b[0;32m      5\\\\u001b[0m         \\\\u001b[0msearch_path\\\\u001b[0m \\\\u001b[1;33m=\\\\u001b[0m\\\\u001b[1;34m\\\\\".\\\\\"\\\\u001b[0m\\\\u001b[1;33m\\\\u001b[0m\\\\u001b[1;33m\\\\u001b[0m\\\\u001b[0m\\\\n\",\\n', '    \"import os \\\\n\",\\n', '    \"                    if \\'import\\' in file.read():\\\\n\",\\n', '    \"import os\\\\n\",\\n']\n",
      "\n",
      "\n",
      "['    \"import os\\\\n\",\\n', '      \"\\\\u001b[1;32m<ipython-input-15-bd73afd2615e>\\\\u001b[0m in \\\\u001b[0;36m<module>\\\\u001b[1;34m\\\\u001b[0m\\\\n\\\\u001b[0;32m      3\\\\u001b[0m \\\\u001b[1;32mimport\\\\u001b[0m \\\\u001b[0mpathlib\\\\u001b[0m\\\\u001b[1;33m\\\\u001b[0m\\\\u001b[1;33m\\\\u001b[0m\\\\u001b[0m\\\\n\\\\u001b[0;32m      4\\\\u001b[0m \\\\u001b[0mdataLog\\\\u001b[0m \\\\u001b[1;33m=\\\\u001b[0m \\\\u001b[1;33m[\\\\u001b[0m\\\\u001b[1;33m]\\\\u001b[0m\\\\u001b[1;33m\\\\u001b[0m\\\\u001b[1;33m\\\\u001b[0m\\\\u001b[0m\\\\n\\\\u001b[1;32m----> 5\\\\u001b[1;33m \\\\u001b[1;32mclass\\\\u001b[0m \\\\u001b[0mModuleLister\\\\u001b[0m\\\\u001b[1;33m(\\\\u001b[0m\\\\u001b[0mFileProcessor\\\\u001b[0m\\\\u001b[1;33m)\\\\u001b[0m\\\\u001b[1;33m:\\\\u001b[0m\\\\u001b[1;33m\\\\u001b[0m\\\\u001b[1;33m\\\\u001b[0m\\\\u001b[0m\\\\n\\\\u001b[0m\\\\u001b[0;32m      6\\\\u001b[0m             \\\\u001b[1;32mwith\\\\u001b[0m \\\\u001b[0mopen\\\\u001b[0m\\\\u001b[1;33m(\\\\u001b[0m\\\\u001b[1;34m\\\\\"C:\\\\\\\\\\\\\\\\Users\\\\\\\\\\\\\\\\boyap\\\\\\\\\\\\\\\\Desktop\\\\\\\\\\\\\\\\Data 601 files\\\\\\\\\\\\\\\\DATA601_HW03.ipynb\\\\\"\\\\u001b[0m\\\\u001b[1;33m)\\\\u001b[0m\\\\u001b[1;32mas\\\\u001b[0m \\\\u001b[0mf\\\\u001b[0m\\\\u001b[1;33m:\\\\u001b[0m\\\\u001b[1;33m\\\\u001b[0m\\\\u001b[1;33m\\\\u001b[0m\\\\u001b[0m\\\\n\\\\u001b[0;32m      7\\\\u001b[0m                 \\\\u001b[0mdata\\\\u001b[0m \\\\u001b[1;33m=\\\\u001b[0m \\\\u001b[0mf\\\\u001b[0m\\\\u001b[1;33m.\\\\u001b[0m\\\\u001b[0mreadlines\\\\u001b[0m\\\\u001b[1;33m(\\\\u001b[0m\\\\u001b[1;33m)\\\\u001b[0m\\\\u001b[1;33m\\\\u001b[0m\\\\u001b[1;33m\\\\u001b[0m\\\\u001b[0m\\\\n\",\\n', '    \"import os\\\\n\",\\n', '    \"import pathlib\\\\n\",\\n', '    \"                    if \\'import\\' in line:\\\\n\",\\n', '      \"\\\\u001b[1;32m<ipython-input-13-20af1931a34e>\\\\u001b[0m in \\\\u001b[0;36m<module>\\\\u001b[1;34m\\\\u001b[0m\\\\n\\\\u001b[0;32m      1\\\\u001b[0m \\\\u001b[1;32mimport\\\\u001b[0m \\\\u001b[0mos\\\\u001b[0m\\\\u001b[1;33m\\\\u001b[0m\\\\u001b[1;33m\\\\u001b[0m\\\\u001b[0m\\\\n\\\\u001b[0;32m      2\\\\u001b[0m \\\\u001b[0mpath\\\\u001b[0m\\\\u001b[1;33m=\\\\u001b[0m\\\\u001b[1;34m\\'C:\\\\\\\\\\\\\\\\Users\\\\\\\\\\\\\\\\saket\\\\\\\\\\\\\\\\Downloads\\'\\\\u001b[0m\\\\u001b[1;33m\\\\u001b[0m\\\\u001b[1;33m\\\\u001b[0m\\\\u001b[0m\\\\n\\\\u001b[1;32m----> 3\\\\u001b[1;33m \\\\u001b[0mos\\\\u001b[0m\\\\u001b[1;33m.\\\\u001b[0m\\\\u001b[0mchdir\\\\u001b[0m\\\\u001b[1;33m(\\\\u001b[0m\\\\u001b[0mpath\\\\u001b[0m\\\\u001b[1;33m)\\\\u001b[0m\\\\u001b[1;33m\\\\u001b[0m\\\\u001b[1;33m\\\\u001b[0m\\\\u001b[0m\\\\n\\\\u001b[0m\\\\u001b[0;32m      4\\\\u001b[0m \\\\u001b[1;32mif\\\\u001b[0m \\\\u001b[1;32mnot\\\\u001b[0m \\\\u001b[0mos\\\\u001b[0m\\\\u001b[1;33m.\\\\u001b[0m\\\\u001b[0mpath\\\\u001b[0m\\\\u001b[1;33m.\\\\u001b[0m\\\\u001b[0mexists\\\\u001b[0m\\\\u001b[1;33m(\\\\u001b[0m\\\\u001b[0msearch_path\\\\u001b[0m\\\\u001b[1;33m)\\\\u001b[0m\\\\u001b[1;33m:\\\\u001b[0m\\\\u001b[1;33m\\\\u001b[0m\\\\u001b[1;33m\\\\u001b[0m\\\\u001b[0m\\\\n\\\\u001b[0;32m      5\\\\u001b[0m         \\\\u001b[0msearch_path\\\\u001b[0m \\\\u001b[1;33m=\\\\u001b[0m\\\\u001b[1;34m\\\\\".\\\\\"\\\\u001b[0m\\\\u001b[1;33m\\\\u001b[0m\\\\u001b[1;33m\\\\u001b[0m\\\\u001b[0m\\\\n\",\\n', '    \"import os \\\\n\",\\n', '    \"                    if \\'import\\' in file.read():\\\\n\",\\n', '    \"import os\\\\n\",\\n', '    \"                index = line.find(\\'import\\')\\\\n\",\\n']\n",
      "\n",
      "\n",
      "['    \"import os\\\\n\",\\n', '      \"\\\\u001b[1;32m<ipython-input-15-bd73afd2615e>\\\\u001b[0m in \\\\u001b[0;36m<module>\\\\u001b[1;34m\\\\u001b[0m\\\\n\\\\u001b[0;32m      3\\\\u001b[0m \\\\u001b[1;32mimport\\\\u001b[0m \\\\u001b[0mpathlib\\\\u001b[0m\\\\u001b[1;33m\\\\u001b[0m\\\\u001b[1;33m\\\\u001b[0m\\\\u001b[0m\\\\n\\\\u001b[0;32m      4\\\\u001b[0m \\\\u001b[0mdataLog\\\\u001b[0m \\\\u001b[1;33m=\\\\u001b[0m \\\\u001b[1;33m[\\\\u001b[0m\\\\u001b[1;33m]\\\\u001b[0m\\\\u001b[1;33m\\\\u001b[0m\\\\u001b[1;33m\\\\u001b[0m\\\\u001b[0m\\\\n\\\\u001b[1;32m----> 5\\\\u001b[1;33m \\\\u001b[1;32mclass\\\\u001b[0m \\\\u001b[0mModuleLister\\\\u001b[0m\\\\u001b[1;33m(\\\\u001b[0m\\\\u001b[0mFileProcessor\\\\u001b[0m\\\\u001b[1;33m)\\\\u001b[0m\\\\u001b[1;33m:\\\\u001b[0m\\\\u001b[1;33m\\\\u001b[0m\\\\u001b[1;33m\\\\u001b[0m\\\\u001b[0m\\\\n\\\\u001b[0m\\\\u001b[0;32m      6\\\\u001b[0m             \\\\u001b[1;32mwith\\\\u001b[0m \\\\u001b[0mopen\\\\u001b[0m\\\\u001b[1;33m(\\\\u001b[0m\\\\u001b[1;34m\\\\\"C:\\\\\\\\\\\\\\\\Users\\\\\\\\\\\\\\\\boyap\\\\\\\\\\\\\\\\Desktop\\\\\\\\\\\\\\\\Data 601 files\\\\\\\\\\\\\\\\DATA601_HW03.ipynb\\\\\"\\\\u001b[0m\\\\u001b[1;33m)\\\\u001b[0m\\\\u001b[1;32mas\\\\u001b[0m \\\\u001b[0mf\\\\u001b[0m\\\\u001b[1;33m:\\\\u001b[0m\\\\u001b[1;33m\\\\u001b[0m\\\\u001b[1;33m\\\\u001b[0m\\\\u001b[0m\\\\n\\\\u001b[0;32m      7\\\\u001b[0m                 \\\\u001b[0mdata\\\\u001b[0m \\\\u001b[1;33m=\\\\u001b[0m \\\\u001b[0mf\\\\u001b[0m\\\\u001b[1;33m.\\\\u001b[0m\\\\u001b[0mreadlines\\\\u001b[0m\\\\u001b[1;33m(\\\\u001b[0m\\\\u001b[1;33m)\\\\u001b[0m\\\\u001b[1;33m\\\\u001b[0m\\\\u001b[1;33m\\\\u001b[0m\\\\u001b[0m\\\\n\",\\n', '    \"import os\\\\n\",\\n', '    \"import pathlib\\\\n\",\\n', '    \"                    if \\'import\\' in line:\\\\n\",\\n', '      \"\\\\u001b[1;32m<ipython-input-13-20af1931a34e>\\\\u001b[0m in \\\\u001b[0;36m<module>\\\\u001b[1;34m\\\\u001b[0m\\\\n\\\\u001b[0;32m      1\\\\u001b[0m \\\\u001b[1;32mimport\\\\u001b[0m \\\\u001b[0mos\\\\u001b[0m\\\\u001b[1;33m\\\\u001b[0m\\\\u001b[1;33m\\\\u001b[0m\\\\u001b[0m\\\\n\\\\u001b[0;32m      2\\\\u001b[0m \\\\u001b[0mpath\\\\u001b[0m\\\\u001b[1;33m=\\\\u001b[0m\\\\u001b[1;34m\\'C:\\\\\\\\\\\\\\\\Users\\\\\\\\\\\\\\\\saket\\\\\\\\\\\\\\\\Downloads\\'\\\\u001b[0m\\\\u001b[1;33m\\\\u001b[0m\\\\u001b[1;33m\\\\u001b[0m\\\\u001b[0m\\\\n\\\\u001b[1;32m----> 3\\\\u001b[1;33m \\\\u001b[0mos\\\\u001b[0m\\\\u001b[1;33m.\\\\u001b[0m\\\\u001b[0mchdir\\\\u001b[0m\\\\u001b[1;33m(\\\\u001b[0m\\\\u001b[0mpath\\\\u001b[0m\\\\u001b[1;33m)\\\\u001b[0m\\\\u001b[1;33m\\\\u001b[0m\\\\u001b[1;33m\\\\u001b[0m\\\\u001b[0m\\\\n\\\\u001b[0m\\\\u001b[0;32m      4\\\\u001b[0m \\\\u001b[1;32mif\\\\u001b[0m \\\\u001b[1;32mnot\\\\u001b[0m \\\\u001b[0mos\\\\u001b[0m\\\\u001b[1;33m.\\\\u001b[0m\\\\u001b[0mpath\\\\u001b[0m\\\\u001b[1;33m.\\\\u001b[0m\\\\u001b[0mexists\\\\u001b[0m\\\\u001b[1;33m(\\\\u001b[0m\\\\u001b[0msearch_path\\\\u001b[0m\\\\u001b[1;33m)\\\\u001b[0m\\\\u001b[1;33m:\\\\u001b[0m\\\\u001b[1;33m\\\\u001b[0m\\\\u001b[1;33m\\\\u001b[0m\\\\u001b[0m\\\\n\\\\u001b[0;32m      5\\\\u001b[0m         \\\\u001b[0msearch_path\\\\u001b[0m \\\\u001b[1;33m=\\\\u001b[0m\\\\u001b[1;34m\\\\\".\\\\\"\\\\u001b[0m\\\\u001b[1;33m\\\\u001b[0m\\\\u001b[1;33m\\\\u001b[0m\\\\u001b[0m\\\\n\",\\n', '    \"import os \\\\n\",\\n', '    \"                    if \\'import\\' in file.read():\\\\n\",\\n', '    \"import os\\\\n\",\\n', '    \"                index = line.find(\\'import\\')\\\\n\",\\n', '    \"                 if \\'import\\' in file.read():\\\\n\",\\n']\n",
      "\n",
      "\n",
      "['    \"import os\\\\n\",\\n', '      \"\\\\u001b[1;32m<ipython-input-15-bd73afd2615e>\\\\u001b[0m in \\\\u001b[0;36m<module>\\\\u001b[1;34m\\\\u001b[0m\\\\n\\\\u001b[0;32m      3\\\\u001b[0m \\\\u001b[1;32mimport\\\\u001b[0m \\\\u001b[0mpathlib\\\\u001b[0m\\\\u001b[1;33m\\\\u001b[0m\\\\u001b[1;33m\\\\u001b[0m\\\\u001b[0m\\\\n\\\\u001b[0;32m      4\\\\u001b[0m \\\\u001b[0mdataLog\\\\u001b[0m \\\\u001b[1;33m=\\\\u001b[0m \\\\u001b[1;33m[\\\\u001b[0m\\\\u001b[1;33m]\\\\u001b[0m\\\\u001b[1;33m\\\\u001b[0m\\\\u001b[1;33m\\\\u001b[0m\\\\u001b[0m\\\\n\\\\u001b[1;32m----> 5\\\\u001b[1;33m \\\\u001b[1;32mclass\\\\u001b[0m \\\\u001b[0mModuleLister\\\\u001b[0m\\\\u001b[1;33m(\\\\u001b[0m\\\\u001b[0mFileProcessor\\\\u001b[0m\\\\u001b[1;33m)\\\\u001b[0m\\\\u001b[1;33m:\\\\u001b[0m\\\\u001b[1;33m\\\\u001b[0m\\\\u001b[1;33m\\\\u001b[0m\\\\u001b[0m\\\\n\\\\u001b[0m\\\\u001b[0;32m      6\\\\u001b[0m             \\\\u001b[1;32mwith\\\\u001b[0m \\\\u001b[0mopen\\\\u001b[0m\\\\u001b[1;33m(\\\\u001b[0m\\\\u001b[1;34m\\\\\"C:\\\\\\\\\\\\\\\\Users\\\\\\\\\\\\\\\\boyap\\\\\\\\\\\\\\\\Desktop\\\\\\\\\\\\\\\\Data 601 files\\\\\\\\\\\\\\\\DATA601_HW03.ipynb\\\\\"\\\\u001b[0m\\\\u001b[1;33m)\\\\u001b[0m\\\\u001b[1;32mas\\\\u001b[0m \\\\u001b[0mf\\\\u001b[0m\\\\u001b[1;33m:\\\\u001b[0m\\\\u001b[1;33m\\\\u001b[0m\\\\u001b[1;33m\\\\u001b[0m\\\\u001b[0m\\\\n\\\\u001b[0;32m      7\\\\u001b[0m                 \\\\u001b[0mdata\\\\u001b[0m \\\\u001b[1;33m=\\\\u001b[0m \\\\u001b[0mf\\\\u001b[0m\\\\u001b[1;33m.\\\\u001b[0m\\\\u001b[0mreadlines\\\\u001b[0m\\\\u001b[1;33m(\\\\u001b[0m\\\\u001b[1;33m)\\\\u001b[0m\\\\u001b[1;33m\\\\u001b[0m\\\\u001b[1;33m\\\\u001b[0m\\\\u001b[0m\\\\n\",\\n', '    \"import os\\\\n\",\\n', '    \"import pathlib\\\\n\",\\n', '    \"                    if \\'import\\' in line:\\\\n\",\\n', '      \"\\\\u001b[1;32m<ipython-input-13-20af1931a34e>\\\\u001b[0m in \\\\u001b[0;36m<module>\\\\u001b[1;34m\\\\u001b[0m\\\\n\\\\u001b[0;32m      1\\\\u001b[0m \\\\u001b[1;32mimport\\\\u001b[0m \\\\u001b[0mos\\\\u001b[0m\\\\u001b[1;33m\\\\u001b[0m\\\\u001b[1;33m\\\\u001b[0m\\\\u001b[0m\\\\n\\\\u001b[0;32m      2\\\\u001b[0m \\\\u001b[0mpath\\\\u001b[0m\\\\u001b[1;33m=\\\\u001b[0m\\\\u001b[1;34m\\'C:\\\\\\\\\\\\\\\\Users\\\\\\\\\\\\\\\\saket\\\\\\\\\\\\\\\\Downloads\\'\\\\u001b[0m\\\\u001b[1;33m\\\\u001b[0m\\\\u001b[1;33m\\\\u001b[0m\\\\u001b[0m\\\\n\\\\u001b[1;32m----> 3\\\\u001b[1;33m \\\\u001b[0mos\\\\u001b[0m\\\\u001b[1;33m.\\\\u001b[0m\\\\u001b[0mchdir\\\\u001b[0m\\\\u001b[1;33m(\\\\u001b[0m\\\\u001b[0mpath\\\\u001b[0m\\\\u001b[1;33m)\\\\u001b[0m\\\\u001b[1;33m\\\\u001b[0m\\\\u001b[1;33m\\\\u001b[0m\\\\u001b[0m\\\\n\\\\u001b[0m\\\\u001b[0;32m      4\\\\u001b[0m \\\\u001b[1;32mif\\\\u001b[0m \\\\u001b[1;32mnot\\\\u001b[0m \\\\u001b[0mos\\\\u001b[0m\\\\u001b[1;33m.\\\\u001b[0m\\\\u001b[0mpath\\\\u001b[0m\\\\u001b[1;33m.\\\\u001b[0m\\\\u001b[0mexists\\\\u001b[0m\\\\u001b[1;33m(\\\\u001b[0m\\\\u001b[0msearch_path\\\\u001b[0m\\\\u001b[1;33m)\\\\u001b[0m\\\\u001b[1;33m:\\\\u001b[0m\\\\u001b[1;33m\\\\u001b[0m\\\\u001b[1;33m\\\\u001b[0m\\\\u001b[0m\\\\n\\\\u001b[0;32m      5\\\\u001b[0m         \\\\u001b[0msearch_path\\\\u001b[0m \\\\u001b[1;33m=\\\\u001b[0m\\\\u001b[1;34m\\\\\".\\\\\"\\\\u001b[0m\\\\u001b[1;33m\\\\u001b[0m\\\\u001b[1;33m\\\\u001b[0m\\\\u001b[0m\\\\n\",\\n', '    \"import os \\\\n\",\\n', '    \"                    if \\'import\\' in file.read():\\\\n\",\\n', '    \"import os\\\\n\",\\n', '    \"                index = line.find(\\'import\\')\\\\n\",\\n', '    \"                 if \\'import\\' in file.read():\\\\n\",\\n', '    \"                if \\'import\\' in file.read():\\\\n\",\\n']\n"
     ]
    }
   ],
   "source": [
    "### your code starts here\n",
    "import os\n",
    "import pathlib\n",
    "dataLog = []\n",
    "class ModuleLister(FileProcessor):\n",
    "            with open(\"C:\\\\Users\\\\boyap\\\\Desktop\\\\Data 601 files\")as f:\n",
    "                data = f.readlines()\n",
    "                for line in data:\n",
    "                    if 'import' in line:\n",
    "                        dataLog.append(line)\n",
    "                        print('\\n')\n",
    "                        print(dataLog)\n",
    "\n"
   ]
  },
  {
   "cell_type": "code",
   "execution_count": 10,
   "metadata": {},
   "outputs": [
    {
     "data": {
      "text/plain": [
       "'C:\\\\Users\\\\boyap\\\\Desktop\\\\Data 601 files'"
      ]
     },
     "execution_count": 10,
     "metadata": {},
     "output_type": "execute_result"
    }
   ],
   "source": [
    "os.getcwd()"
   ]
  },
  {
   "cell_type": "code",
   "execution_count": 19,
   "metadata": {},
   "outputs": [
    {
     "name": "stdout",
     "output_type": "stream",
     "text": [
      "87 file(s) found...\n"
     ]
    }
   ],
   "source": [
    "processor = ModuleLister(path='C:\\\\Users\\\\boyap\\\\Desktop\\\\Data 601 files') # change the path according to your path"
   ]
  },
  {
   "cell_type": "code",
   "execution_count": 12,
   "metadata": {},
   "outputs": [],
   "source": [
    "processor.start()\n"
   ]
  },
  {
   "cell_type": "code",
   "execution_count": null,
   "metadata": {},
   "outputs": [],
   "source": [
    "#while running this program, there was a IOPub issue and had been crashed so i used my friend's pc"
   ]
  },
  {
   "cell_type": "code",
   "execution_count": 11,
   "metadata": {},
   "outputs": [],
   "source": []
  },
  {
   "cell_type": "code",
   "execution_count": null,
   "metadata": {},
   "outputs": [],
   "source": []
  },
  {
   "cell_type": "code",
   "execution_count": null,
   "metadata": {},
   "outputs": [],
   "source": []
  },
  {
   "cell_type": "code",
   "execution_count": null,
   "metadata": {},
   "outputs": [],
   "source": []
  }
 ],
 "metadata": {
  "kernelspec": {
   "display_name": "Python 3",
   "language": "python",
   "name": "python3"
  },
  "language_info": {
   "codemirror_mode": {
    "name": "ipython",
    "version": 3
   },
   "file_extension": ".py",
   "mimetype": "text/x-python",
   "name": "python",
   "nbconvert_exporter": "python",
   "pygments_lexer": "ipython3",
   "version": "3.8.3"
  },
  "toc": {
   "base_numbering": 1,
   "nav_menu": {},
   "number_sections": true,
   "sideBar": true,
   "skip_h1_title": false,
   "title_cell": "Table of Contents",
   "title_sidebar": "Contents",
   "toc_cell": false,
   "toc_position": {},
   "toc_section_display": true,
   "toc_window_display": false
  },
  "varInspector": {
   "cols": {
    "lenName": 16,
    "lenType": 16,
    "lenVar": 40
   },
   "kernels_config": {
    "python": {
     "delete_cmd_postfix": "",
     "delete_cmd_prefix": "del ",
     "library": "var_list.py",
     "varRefreshCmd": "print(var_dic_list())"
    },
    "r": {
     "delete_cmd_postfix": ") ",
     "delete_cmd_prefix": "rm(",
     "library": "var_list.r",
     "varRefreshCmd": "cat(var_dic_list()) "
    }
   },
   "types_to_exclude": [
    "module",
    "function",
    "builtin_function_or_method",
    "instance",
    "_Feature"
   ],
   "window_display": false
  }
 },
 "nbformat": 4,
 "nbformat_minor": 2
}
