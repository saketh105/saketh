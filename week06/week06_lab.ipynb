{
 "cells": [
  {
   "cell_type": "markdown",
   "id": "142f4de1",
   "metadata": {
    "id": "v5Zi0hVzU34f"
   },
   "source": [
    "# Week6 Lab\n",
    "\n",
    "## Download & Extract Data\n",
    "\n",
    "Programmatically download the zip file & extract"
   ]
  },
  {
   "cell_type": "code",
   "execution_count": 7,
   "id": "366aa3f0",
   "metadata": {
    "colab": {
     "base_uri": "https://localhost:8080/"
    },
    "id": "sbIweVvCfHMU",
    "outputId": "5c1794ed-460b-46fe-e09b-675284a038a7",
    "scrolled": true
   },
   "outputs": [],
   "source": [
    "file_url = 'https://github.com/msaricaumbc/DS_data/blob/master/lab_data.zip?raw=true'\n",
    "file_name= 'week06lab'"
   ]
  },
  {
   "cell_type": "code",
   "execution_count": 10,
   "id": "7f023c3a",
   "metadata": {},
   "outputs": [],
   "source": [
    "from urllib import request\n",
    "\n",
    "def download_file(file_name, url):\n",
    "    res = request.urlopen(url)\n",
    "    with open(file_name,'wb') as file:\n",
    "        file.write(res.read())\n",
    "        \n"
   ]
  },
  {
   "cell_type": "code",
   "execution_count": 18,
   "id": "af6ae825",
   "metadata": {},
   "outputs": [],
   "source": [
    "download_file('week06lab.zip',file_url)"
   ]
  },
  {
   "cell_type": "code",
   "execution_count": 19,
   "id": "039a2806",
   "metadata": {},
   "outputs": [
    {
     "name": "stdout",
     "output_type": "stream",
     "text": [
      " Volume in drive C is OS\n",
      " Volume Serial Number is C6E7-7DF5\n",
      "\n",
      " Directory of C:\\Users\\saket\\Downloads\n",
      "\n",
      "03/08/2022  09:12 PM    <DIR>          .\n",
      "03/08/2022  09:12 PM    <DIR>          ..\n",
      "03/08/2022  08:52 PM    <DIR>          .ipynb_checkpoints\n",
      "03/04/2022  08:53 PM            95,759 21-22-Emergency Relief Grant-Application (1).pdf\n",
      "03/04/2022  09:03 PM           126,997 21-22-Emergency Relief Grant-Application.pdf\n",
      "03/06/2022  11:14 PM         1,175,775 a52967a2-84d3-4b03-bf9b-8699d417db34.pdf\n",
      "02/08/2022  06:38 PM       535,052,832 Anaconda3-2021.11-Windows-x86_64.exe\n",
      "02/20/2022  01:25 PM            48,846 Art of criticism.pdf\n",
      "02/06/2022  05:42 PM         1,343,320 ChromeSetup.exe\n",
      "02/09/2022  11:38 PM            18,466 Class Discussion - Week 1 (1).docx\n",
      "02/08/2022  02:51 PM            18,466 Class Discussion - Week 1.docx\n",
      "02/10/2022  08:42 PM            15,871 Class Discussion - Week 2.docx\n",
      "02/27/2022  09:03 PM            17,601 Class Discussion - Week 3.docx\n",
      "02/06/2022  08:16 PM            14,312 Communications Worksheet(3).docx\n",
      "03/02/2022  07:53 PM        10,917,655 DATA-605 (1).zip\n",
      "03/02/2022  07:52 PM        10,917,655 DATA-605.zip\n",
      "02/17/2022  10:22 PM           309,618 DEGREEMAIN.pdf\n",
      "02/21/2022  12:11 AM               756 Documents - Shortcut.lnk\n",
      "02/20/2022  01:06 PM            15,721 ENMG 652 Video links 2021(1).docx\n",
      "02/20/2022  02:24 PM            86,258 Free-Employee-Performance-Evaluation-Review-Form.zip\n",
      "02/09/2022  10:17 PM             6,555 H.ipynb\n",
      "02/09/2022  09:53 PM             7,768 HW-01.ipynb\n",
      "02/13/2022  04:56 PM            19,082 HW-02 (1).ipynb\n",
      "02/13/2022  04:58 PM            19,082 HW-02.ipynb\n",
      "02/21/2022  09:09 AM            20,568 HW-03 (1).ipynb\n",
      "02/21/2022  10:17 AM            24,551 HW-03 (2).ipynb\n",
      "02/21/2022  01:00 PM            28,950 HW-03(saketh).ipynb\n",
      "02/21/2022  12:55 PM            20,658 HW-03.ipynb\n",
      "03/01/2022  05:05 PM            65,189 hw-04-saketh.ipynb\n",
      "03/01/2022  04:24 PM            65,264 hw-04.ipynb\n",
      "03/08/2022  06:21 PM         4,374,205 hw-05 (2) (1).ipynb\n",
      "03/08/2022  06:46 PM         4,951,308 hw-05-saketh.ipynb\n",
      "02/09/2022  11:28 PM             6,555 hw01-1.ipynb\n",
      "02/09/2022  10:01 PM             7,765 HW01.ipynb\n",
      "02/09/2022  09:53 PM             7,872 hw1.ipynb\n",
      "03/01/2022  02:40 PM            38,628 lab04.ipynb\n",
      "03/01/2022  02:41 PM            26,175 lab04_saketh.ipynb\n",
      "02/22/2022  06:42 PM            66,615 lab2 week2.ipynb\n",
      "02/22/2022  06:43 PM            66,615 lab2saketh.ipynb\n",
      "02/22/2022  09:17 PM            65,199 lab3 (1).ipynb\n",
      "02/20/2022  11:01 PM            65,199 lab3 (2).ipynb\n",
      "02/20/2022  11:16 PM            65,151 lab3.ipynb\n",
      "03/01/2022  02:21 PM            38,458 lab_04.ipynb\n",
      "02/09/2022  10:16 PM               257 main.py\n",
      "02/27/2022  04:20 PM            35,385 Motivation_ReinforcementTheory.docx.pdf\n",
      "02/09/2022  10:16 PM               257 my_script.py\n",
      "02/09/2022  09:51 AM       377,284,568 pycharm-community-2021.3.2.exe\n",
      "02/09/2022  10:00 AM        28,239,176 python-3.10.2-amd64 (1).exe\n",
      "02/09/2022  10:00 AM        28,239,176 python-3.10.2-amd64.exe\n",
      "03/04/2022  10:08 PM               269 receipt-GSAIT_SP2022-Final Assessment Academic Integrity.txt\n",
      "03/01/2022  04:02 PM            48,034 RollingSystemDemand_20220301_2102.csv\n",
      "02/21/2022  12:09 AM        11,813,293 saketh ppt.mp4\n",
      "02/17/2022  10:28 PM           354,443 Spring 2022 UMBC I-20 Magam_SakethReddy[178].pdf\n",
      "02/09/2022  11:29 AM               697 Untitled.ipynb\n",
      "02/09/2022  09:54 PM               588 Untitled1.ipynb\n",
      "02/09/2022  09:53 PM                72 Untitled2.ipynb\n",
      "03/08/2022  06:44 PM         4,726,450 Untitled3.ipynb\n",
      "02/20/2022  04:38 PM            85,939 W16316-PDF-ENG (1).pdf\n",
      "02/20/2022  04:38 PM            85,939 W16316-PDF-ENG.pdf\n",
      "02/08/2022  07:00 PM           419,168 webex.exe\n",
      "02/08/2022  07:01 PM       275,013,632 Webex.msi\n",
      "03/08/2022  09:10 PM            65,861 week06lab\n",
      "03/08/2022  09:12 PM            65,861 week06lab.zip\n",
      "03/08/2022  09:10 PM             9,852 week06_lab.ipynb\n",
      "03/01/2022  09:48 PM           652,439 week5_lab.ipynb\n",
      "02/27/2022  03:41 PM            20,248 Worksheet on motivation theory comparison.docx\n",
      "02/25/2022  08:50 PM            39,501 Worksheet_on_motivation_theory_comparison.docx (1).pdf\n",
      "02/27/2022  04:20 PM            39,501 Worksheet_on_motivation_theory_comparison.docx (2).pdf\n",
      "02/25/2022  08:44 PM            39,501 Worksheet_on_motivation_theory_comparison.docx.pdf\n",
      "02/13/2022  09:45 PM            17,976 Your First Management Assignment[165].docx\n",
      "03/06/2022  11:02 PM        21,158,616 ZoomInstaller.exe\n",
      "03/06/2022  11:02 PM           130,072 Zoom_cm_fo42mnktZ9vvrZo4_mZa1NmB8pWB9ESi7AHpDmpCQ5oT4I5hJ97pui@RgFpX9EQwWOPebMu_k2fd54599292394d4_.exe\n",
      "              69 File(s)  1,318,820,091 bytes\n",
      "               3 Dir(s)  44,658,839,552 bytes free\n"
     ]
    }
   ],
   "source": [
    "!dir"
   ]
  },
  {
   "cell_type": "code",
   "execution_count": 20,
   "id": "943dc85a",
   "metadata": {},
   "outputs": [],
   "source": [
    "from zipfile import ZipFile"
   ]
  },
  {
   "cell_type": "code",
   "execution_count": 21,
   "id": "4a12e3bb",
   "metadata": {},
   "outputs": [],
   "source": [
    "def unzip(file_name, path='./'):\n",
    "    # opening the zip file in READ mode \n",
    "    with ZipFile(file_name, 'r') as zip: \n",
    "        # printing all the contents of the zip file \n",
    "        zip.printdir() \n",
    "\n",
    "        # extracting all the files \n",
    "        print('Extracting all the files now...') \n",
    "        zip.extractall(path = path) \n",
    "        print('Done!') "
   ]
  },
  {
   "cell_type": "code",
   "execution_count": 24,
   "id": "cc6ae6d2",
   "metadata": {},
   "outputs": [
    {
     "name": "stdout",
     "output_type": "stream",
     "text": [
      "File Name                                             Modified             Size\n",
      "PoliceShootingsUS.csv                          2021-09-21 20:53:54       227653\n",
      "__MACOSX/._PoliceShootingsUS.csv               2021-09-21 20:53:54          276\n",
      "volunteers.txt                                 2021-10-06 00:32:28         7015\n",
      "__MACOSX/._volunteers.txt                      2021-10-06 00:32:28          176\n",
      "Extracting all the files now...\n",
      "Done!\n"
     ]
    }
   ],
   "source": [
    "unzip('week06lab.zip')"
   ]
  },
  {
   "cell_type": "code",
   "execution_count": 25,
   "id": "a60f235e",
   "metadata": {},
   "outputs": [
    {
     "name": "stdout",
     "output_type": "stream",
     "text": [
      " Volume in drive C is OS\n",
      " Volume Serial Number is C6E7-7DF5\n",
      "\n",
      " Directory of C:\\Users\\saket\\Downloads\n",
      "\n",
      "03/08/2022  09:18 PM    <DIR>          .\n",
      "03/08/2022  09:18 PM    <DIR>          ..\n",
      "03/08/2022  08:52 PM    <DIR>          .ipynb_checkpoints\n",
      "03/04/2022  08:53 PM            95,759 21-22-Emergency Relief Grant-Application (1).pdf\n",
      "03/04/2022  09:03 PM           126,997 21-22-Emergency Relief Grant-Application.pdf\n",
      "03/06/2022  11:14 PM         1,175,775 a52967a2-84d3-4b03-bf9b-8699d417db34.pdf\n",
      "02/08/2022  06:38 PM       535,052,832 Anaconda3-2021.11-Windows-x86_64.exe\n",
      "02/20/2022  01:25 PM            48,846 Art of criticism.pdf\n",
      "02/06/2022  05:42 PM         1,343,320 ChromeSetup.exe\n",
      "02/09/2022  11:38 PM            18,466 Class Discussion - Week 1 (1).docx\n",
      "02/08/2022  02:51 PM            18,466 Class Discussion - Week 1.docx\n",
      "02/10/2022  08:42 PM            15,871 Class Discussion - Week 2.docx\n",
      "02/27/2022  09:03 PM            17,601 Class Discussion - Week 3.docx\n",
      "02/06/2022  08:16 PM            14,312 Communications Worksheet(3).docx\n",
      "03/02/2022  07:53 PM        10,917,655 DATA-605 (1).zip\n",
      "03/02/2022  07:52 PM        10,917,655 DATA-605.zip\n",
      "02/17/2022  10:22 PM           309,618 DEGREEMAIN.pdf\n",
      "02/21/2022  12:11 AM               756 Documents - Shortcut.lnk\n",
      "02/20/2022  01:06 PM            15,721 ENMG 652 Video links 2021(1).docx\n",
      "02/20/2022  02:24 PM            86,258 Free-Employee-Performance-Evaluation-Review-Form.zip\n",
      "02/09/2022  10:17 PM             6,555 H.ipynb\n",
      "02/09/2022  09:53 PM             7,768 HW-01.ipynb\n",
      "02/13/2022  04:56 PM            19,082 HW-02 (1).ipynb\n",
      "02/13/2022  04:58 PM            19,082 HW-02.ipynb\n",
      "02/21/2022  09:09 AM            20,568 HW-03 (1).ipynb\n",
      "02/21/2022  10:17 AM            24,551 HW-03 (2).ipynb\n",
      "02/21/2022  01:00 PM            28,950 HW-03(saketh).ipynb\n",
      "02/21/2022  12:55 PM            20,658 HW-03.ipynb\n",
      "03/01/2022  05:05 PM            65,189 hw-04-saketh.ipynb\n",
      "03/01/2022  04:24 PM            65,264 hw-04.ipynb\n",
      "03/08/2022  06:21 PM         4,374,205 hw-05 (2) (1).ipynb\n",
      "03/08/2022  06:46 PM         4,951,308 hw-05-saketh.ipynb\n",
      "02/09/2022  11:28 PM             6,555 hw01-1.ipynb\n",
      "02/09/2022  10:01 PM             7,765 HW01.ipynb\n",
      "02/09/2022  09:53 PM             7,872 hw1.ipynb\n",
      "03/01/2022  02:40 PM            38,628 lab04.ipynb\n",
      "03/01/2022  02:41 PM            26,175 lab04_saketh.ipynb\n",
      "02/22/2022  06:42 PM            66,615 lab2 week2.ipynb\n",
      "02/22/2022  06:43 PM            66,615 lab2saketh.ipynb\n",
      "02/22/2022  09:17 PM            65,199 lab3 (1).ipynb\n",
      "02/20/2022  11:01 PM            65,199 lab3 (2).ipynb\n",
      "02/20/2022  11:16 PM            65,151 lab3.ipynb\n",
      "03/01/2022  02:21 PM            38,458 lab_04.ipynb\n",
      "02/09/2022  10:16 PM               257 main.py\n",
      "02/27/2022  04:20 PM            35,385 Motivation_ReinforcementTheory.docx.pdf\n",
      "02/09/2022  10:16 PM               257 my_script.py\n",
      "03/08/2022  09:18 PM           227,653 PoliceShootingsUS.csv\n",
      "02/09/2022  09:51 AM       377,284,568 pycharm-community-2021.3.2.exe\n",
      "02/09/2022  10:00 AM        28,239,176 python-3.10.2-amd64 (1).exe\n",
      "02/09/2022  10:00 AM        28,239,176 python-3.10.2-amd64.exe\n",
      "03/04/2022  10:08 PM               269 receipt-GSAIT_SP2022-Final Assessment Academic Integrity.txt\n",
      "03/01/2022  04:02 PM            48,034 RollingSystemDemand_20220301_2102.csv\n",
      "02/21/2022  12:09 AM        11,813,293 saketh ppt.mp4\n",
      "02/17/2022  10:28 PM           354,443 Spring 2022 UMBC I-20 Magam_SakethReddy[178].pdf\n",
      "02/09/2022  11:29 AM               697 Untitled.ipynb\n",
      "02/09/2022  09:54 PM               588 Untitled1.ipynb\n",
      "02/09/2022  09:53 PM                72 Untitled2.ipynb\n",
      "03/08/2022  06:44 PM         4,726,450 Untitled3.ipynb\n",
      "03/08/2022  09:18 PM             7,015 volunteers.txt\n",
      "02/20/2022  04:38 PM            85,939 W16316-PDF-ENG (1).pdf\n",
      "02/20/2022  04:38 PM            85,939 W16316-PDF-ENG.pdf\n",
      "02/08/2022  07:00 PM           419,168 webex.exe\n",
      "02/08/2022  07:01 PM       275,013,632 Webex.msi\n",
      "03/08/2022  09:10 PM            65,861 week06lab\n",
      "03/08/2022  09:12 PM            65,861 week06lab.zip\n",
      "03/08/2022  09:18 PM            14,075 week06_lab.ipynb\n",
      "03/01/2022  09:48 PM           652,439 week5_lab.ipynb\n",
      "02/27/2022  03:41 PM            20,248 Worksheet on motivation theory comparison.docx\n",
      "02/25/2022  08:50 PM            39,501 Worksheet_on_motivation_theory_comparison.docx (1).pdf\n",
      "02/27/2022  04:20 PM            39,501 Worksheet_on_motivation_theory_comparison.docx (2).pdf\n",
      "02/25/2022  08:44 PM            39,501 Worksheet_on_motivation_theory_comparison.docx.pdf\n",
      "02/13/2022  09:45 PM            17,976 Your First Management Assignment[165].docx\n",
      "03/06/2022  11:02 PM        21,158,616 ZoomInstaller.exe\n",
      "03/06/2022  11:02 PM           130,072 Zoom_cm_fo42mnktZ9vvrZo4_mZa1NmB8pWB9ESi7AHpDmpCQ5oT4I5hJ97pui@RgFpX9EQwWOPebMu_k2fd54599292394d4_.exe\n",
      "03/08/2022  09:18 PM    <DIR>          __MACOSX\n",
      "              71 File(s)  1,319,058,982 bytes\n",
      "               4 Dir(s)  44,664,393,728 bytes free\n"
     ]
    }
   ],
   "source": [
    "!dir"
   ]
  },
  {
   "cell_type": "code",
   "execution_count": null,
   "id": "324dfc68",
   "metadata": {},
   "outputs": [],
   "source": []
  },
  {
   "cell_type": "code",
   "execution_count": null,
   "id": "925c0c1f",
   "metadata": {},
   "outputs": [],
   "source": []
  },
  {
   "cell_type": "markdown",
   "id": "3b50c890",
   "metadata": {
    "id": "_kjkZyypfdLD"
   },
   "source": [
    "## Reading data from a csv file"
   ]
  },
  {
   "cell_type": "markdown",
   "id": "eb1e93f2",
   "metadata": {
    "id": "RgyCSGYBgCK0"
   },
   "source": [
    "For the file `PoliceShootingsUS.csv`, please answer the following questions:\n",
    "\n",
    "* How many offenders are older than 55? "
   ]
  },
  {
   "cell_type": "code",
   "execution_count": 32,
   "id": "367088e5",
   "metadata": {
    "id": "v7tImBaOgNwo"
   },
   "outputs": [],
   "source": [
    "## Your code is here\n",
    "with open('PoliceShootingsUS.csv') as file:\n",
    "    line=file.readline()\n",
    "    "
   ]
  },
  {
   "cell_type": "code",
   "execution_count": 33,
   "id": "1a37c5a4",
   "metadata": {},
   "outputs": [
    {
     "name": "stdout",
     "output_type": "stream",
     "text": [
      "id,name,date,manner_of_death,armed,age,gender,race,city,state,signs_of_mental_illness,threat_level,flee,body_camera\n",
      "\n"
     ]
    }
   ],
   "source": [
    "print(line)"
   ]
  },
  {
   "cell_type": "code",
   "execution_count": null,
   "id": "8a194baa",
   "metadata": {},
   "outputs": [],
   "source": []
  },
  {
   "cell_type": "markdown",
   "id": "02305a57",
   "metadata": {},
   "source": [
    "* What's the age distribution?"
   ]
  },
  {
   "cell_type": "code",
   "execution_count": null,
   "id": "0b4f74c9",
   "metadata": {
    "id": "v7tImBaOgNwo"
   },
   "outputs": [],
   "source": [
    "## Your code is here\n"
   ]
  },
  {
   "cell_type": "markdown",
   "id": "fea7d570",
   "metadata": {},
   "source": [
    "## Dirty data\n",
    "\n",
    "Read `volunteers.txt` file and perform the following action:\n",
    "\n",
    "* Create a dataframe with columns: Name, Lastname, State"
   ]
  },
  {
   "cell_type": "code",
   "execution_count": null,
   "id": "8c0f7665",
   "metadata": {},
   "outputs": [],
   "source": [
    "## Your code is here\n"
   ]
  },
  {
   "cell_type": "code",
   "execution_count": null,
   "id": "cf0259df",
   "metadata": {},
   "outputs": [],
   "source": []
  }
 ],
 "metadata": {
  "kernelspec": {
   "display_name": "Python 3 (ipykernel)",
   "language": "python",
   "name": "python3"
  },
  "language_info": {
   "codemirror_mode": {
    "name": "ipython",
    "version": 3
   },
   "file_extension": ".py",
   "mimetype": "text/x-python",
   "name": "python",
   "nbconvert_exporter": "python",
   "pygments_lexer": "ipython3",
   "version": "3.9.7"
  },
  "toc": {
   "base_numbering": 1,
   "nav_menu": {},
   "number_sections": false,
   "sideBar": true,
   "skip_h1_title": false,
   "title_cell": "Table of Contents",
   "title_sidebar": "Contents",
   "toc_cell": false,
   "toc_position": {
    "height": "calc(100% - 180px)",
    "left": "10px",
    "top": "150px",
    "width": "261.818px"
   },
   "toc_section_display": true,
   "toc_window_display": true
  }
 },
 "nbformat": 4,
 "nbformat_minor": 5
}
