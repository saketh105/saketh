{
 "cells": [
  {
   "cell_type": "markdown",
   "id": "142f4de1",
   "metadata": {
    "id": "v5Zi0hVzU34f"
   },
   "source": [
    "# Week6 Lab\n",
    "\n",
    "## Download & Extract Data\n",
    "\n",
    "Programmatically download the zip file & extract"
   ]
  },
  {
   "cell_type": "code",
   "execution_count": 1,
   "id": "366aa3f0",
   "metadata": {
    "colab": {
     "base_uri": "https://localhost:8080/"
    },
    "id": "sbIweVvCfHMU",
    "outputId": "5c1794ed-460b-46fe-e09b-675284a038a7",
    "scrolled": true
   },
   "outputs": [],
   "source": [
    "file_url = 'https://github.com/msaricaumbc/DS_data/blob/master/lab_data.zip?raw=true'\n",
    "file_name= 'week06lab'"
   ]
  },
  {
   "cell_type": "code",
   "execution_count": 2,
   "id": "7f023c3a",
   "metadata": {},
   "outputs": [],
   "source": [
    "from urllib import request\n",
    "\n",
    "def download_file(file_name, url):\n",
    "    res = request.urlopen(url)\n",
    "    with open(file_name,'wb') as file:\n",
    "        file.write(res.read())\n",
    "        \n"
   ]
  },
  {
   "cell_type": "code",
   "execution_count": 3,
   "id": "af6ae825",
   "metadata": {},
   "outputs": [],
   "source": [
    "download_file('week06lab.zip',file_url)"
   ]
  },
  {
   "cell_type": "code",
   "execution_count": 4,
   "id": "039a2806",
   "metadata": {},
   "outputs": [
    {
     "name": "stdout",
     "output_type": "stream",
     "text": [
      " Volume in drive C is OS\n",
      " Volume Serial Number is C6E7-7DF5\n",
      "\n",
      " Directory of C:\\Users\\saket\\Downloads\n",
      "\n",
      "03/15/2022  04:34 PM    <DIR>          .\n",
      "03/15/2022  04:34 PM    <DIR>          ..\n",
      "03/08/2022  09:52 PM    <DIR>          .ipynb_checkpoints\n",
      "03/04/2022  09:53 PM            95,759 21-22-Emergency Relief Grant-Application (1).pdf\n",
      "03/04/2022  10:03 PM           126,997 21-22-Emergency Relief Grant-Application.pdf\n",
      "03/07/2022  12:14 AM         1,175,775 a52967a2-84d3-4b03-bf9b-8699d417db34.pdf\n",
      "02/08/2022  07:38 PM       535,052,832 Anaconda3-2021.11-Windows-x86_64.exe\n",
      "02/20/2022  02:25 PM            48,846 Art of criticism.pdf\n",
      "02/06/2022  06:42 PM         1,343,320 ChromeSetup.exe\n",
      "02/10/2022  12:38 AM            18,466 Class Discussion - Week 1 (1).docx\n",
      "02/08/2022  03:51 PM            18,466 Class Discussion - Week 1.docx\n",
      "02/10/2022  09:42 PM            15,871 Class Discussion - Week 2.docx\n",
      "02/27/2022  10:03 PM            17,601 Class Discussion - Week 3.docx\n",
      "02/06/2022  09:16 PM            14,312 Communications Worksheet(3).docx\n",
      "03/02/2022  08:53 PM        10,917,655 DATA-605 (1).zip\n",
      "03/02/2022  08:52 PM        10,917,655 DATA-605.zip\n",
      "02/17/2022  11:22 PM           309,618 DEGREEMAIN.pdf\n",
      "02/21/2022  01:11 AM               756 Documents - Shortcut.lnk\n",
      "02/20/2022  02:06 PM            15,721 ENMG 652 Video links 2021(1).docx\n",
      "02/20/2022  03:24 PM            86,258 Free-Employee-Performance-Evaluation-Review-Form.zip\n",
      "02/09/2022  11:17 PM             6,555 H.ipynb\n",
      "02/09/2022  10:53 PM             7,768 HW-01.ipynb\n",
      "02/13/2022  05:56 PM            19,082 HW-02 (1).ipynb\n",
      "02/13/2022  05:58 PM            19,082 HW-02.ipynb\n",
      "02/21/2022  10:09 AM            20,568 HW-03 (1).ipynb\n",
      "02/21/2022  11:17 AM            24,551 HW-03 (2).ipynb\n",
      "02/21/2022  02:00 PM            28,950 HW-03(saketh).ipynb\n",
      "02/21/2022  01:55 PM            20,658 HW-03.ipynb\n",
      "03/01/2022  06:05 PM            65,189 hw-04-saketh.ipynb\n",
      "03/01/2022  05:24 PM            65,264 hw-04.ipynb\n",
      "03/08/2022  07:21 PM         4,374,205 hw-05 (2) (1).ipynb\n",
      "03/08/2022  07:46 PM         4,951,308 hw-05-saketh.ipynb\n",
      "02/10/2022  12:28 AM             6,555 hw01-1.ipynb\n",
      "02/09/2022  11:01 PM             7,765 HW01.ipynb\n",
      "02/09/2022  10:53 PM             7,872 hw1.ipynb\n",
      "03/01/2022  03:40 PM            38,628 lab04.ipynb\n",
      "03/01/2022  03:41 PM            26,175 lab04_saketh.ipynb\n",
      "02/22/2022  07:42 PM            66,615 lab2 week2.ipynb\n",
      "02/22/2022  07:43 PM            66,615 lab2saketh.ipynb\n",
      "02/22/2022  10:17 PM            65,199 lab3 (1).ipynb\n",
      "02/21/2022  12:01 AM            65,199 lab3 (2).ipynb\n",
      "02/21/2022  12:16 AM            65,151 lab3.ipynb\n",
      "03/01/2022  03:21 PM            38,458 lab_04.ipynb\n",
      "02/09/2022  11:16 PM               257 main.py\n",
      "02/27/2022  05:20 PM            35,385 Motivation_ReinforcementTheory.docx.pdf\n",
      "02/09/2022  11:16 PM               257 my_script.py\n",
      "03/15/2022  02:14 PM           227,653 PoliceShootingsUS.csv\n",
      "02/09/2022  10:51 AM       377,284,568 pycharm-community-2021.3.2.exe\n",
      "02/09/2022  11:00 AM        28,239,176 python-3.10.2-amd64 (1).exe\n",
      "02/09/2022  11:00 AM        28,239,176 python-3.10.2-amd64.exe\n",
      "03/04/2022  11:08 PM               269 receipt-GSAIT_SP2022-Final Assessment Academic Integrity.txt\n",
      "03/01/2022  05:02 PM            48,034 RollingSystemDemand_20220301_2102.csv\n",
      "02/21/2022  01:09 AM        11,813,293 saketh ppt.mp4\n",
      "02/17/2022  11:28 PM           354,443 Spring 2022 UMBC I-20 Magam_SakethReddy[178].pdf\n",
      "03/09/2022  04:37 PM            26,731 STC Case study analysis_(mohammednabeel).docx\n",
      "03/09/2022  04:38 PM            26,793 STC Case study analysis_(mohammednabeel)F.docx\n",
      "02/09/2022  12:29 PM               697 Untitled.ipynb\n",
      "02/09/2022  10:54 PM               588 Untitled1.ipynb\n",
      "02/09/2022  10:53 PM                72 Untitled2.ipynb\n",
      "03/08/2022  07:44 PM         4,726,450 Untitled3.ipynb\n",
      "03/09/2022  04:41 PM        14,738,022 video12577960432.mp4\n",
      "03/15/2022  02:14 PM             7,015 volunteers.txt\n",
      "02/20/2022  05:38 PM            85,939 W16316-PDF-ENG (1).pdf\n",
      "02/20/2022  05:38 PM            85,939 W16316-PDF-ENG.pdf\n",
      "02/08/2022  08:00 PM           419,168 webex.exe\n",
      "02/08/2022  08:01 PM       275,013,632 Webex.msi\n",
      "03/08/2022  10:10 PM            65,861 week06lab\n",
      "03/15/2022  04:36 PM            65,861 week06lab.zip\n",
      "03/15/2022  04:34 PM            73,767 week06_lab.ipynb\n",
      "03/01/2022  10:48 PM           652,439 week5_lab.ipynb\n",
      "02/27/2022  04:41 PM            20,248 Worksheet on motivation theory comparison.docx\n",
      "02/25/2022  09:50 PM            39,501 Worksheet_on_motivation_theory_comparison.docx (1).pdf\n",
      "02/27/2022  05:20 PM            39,501 Worksheet_on_motivation_theory_comparison.docx (2).pdf\n",
      "02/25/2022  09:44 PM            39,501 Worksheet_on_motivation_theory_comparison.docx.pdf\n",
      "02/13/2022  10:45 PM            17,976 Your First Management Assignment[165].docx\n",
      "03/07/2022  12:02 AM        21,158,616 ZoomInstaller.exe\n",
      "03/07/2022  12:02 AM           130,072 Zoom_cm_fo42mnktZ9vvrZo4_mZa1NmB8pWB9ESi7AHpDmpCQ5oT4I5hJ97pui@RgFpX9EQwWOPebMu_k2fd54599292394d4_.exe\n",
      "03/08/2022  10:18 PM    <DIR>          __MACOSX\n",
      "              74 File(s)  1,333,910,220 bytes\n",
      "               4 Dir(s)  47,301,861,376 bytes free\n"
     ]
    }
   ],
   "source": [
    "!dir"
   ]
  },
  {
   "cell_type": "code",
   "execution_count": 5,
   "id": "943dc85a",
   "metadata": {},
   "outputs": [],
   "source": [
    "from zipfile import ZipFile"
   ]
  },
  {
   "cell_type": "code",
   "execution_count": 6,
   "id": "4a12e3bb",
   "metadata": {},
   "outputs": [],
   "source": [
    "def unzip(file_name, path='./'):\n",
    "    # opening the zip file in READ mode \n",
    "    with ZipFile(file_name, 'r') as zip: \n",
    "        # printing all the contents of the zip file \n",
    "        zip.printdir() \n",
    "\n",
    "        # extracting all the files \n",
    "        print('Extracting all the files now...') \n",
    "        zip.extractall(path = path) \n",
    "        print('Done!') "
   ]
  },
  {
   "cell_type": "code",
   "execution_count": 7,
   "id": "cc6ae6d2",
   "metadata": {},
   "outputs": [
    {
     "name": "stdout",
     "output_type": "stream",
     "text": [
      "File Name                                             Modified             Size\n",
      "PoliceShootingsUS.csv                          2021-09-21 20:53:54       227653\n",
      "__MACOSX/._PoliceShootingsUS.csv               2021-09-21 20:53:54          276\n",
      "volunteers.txt                                 2021-10-06 00:32:28         7015\n",
      "__MACOSX/._volunteers.txt                      2021-10-06 00:32:28          176\n",
      "Extracting all the files now...\n",
      "Done!\n"
     ]
    }
   ],
   "source": [
    "unzip('week06lab.zip')"
   ]
  },
  {
   "cell_type": "code",
   "execution_count": 8,
   "id": "a60f235e",
   "metadata": {},
   "outputs": [
    {
     "name": "stdout",
     "output_type": "stream",
     "text": [
      " Volume in drive C is OS\n",
      " Volume Serial Number is C6E7-7DF5\n",
      "\n",
      " Directory of C:\\Users\\saket\\Downloads\n",
      "\n",
      "03/15/2022  04:34 PM    <DIR>          .\n",
      "03/15/2022  04:34 PM    <DIR>          ..\n",
      "03/08/2022  09:52 PM    <DIR>          .ipynb_checkpoints\n",
      "03/04/2022  09:53 PM            95,759 21-22-Emergency Relief Grant-Application (1).pdf\n",
      "03/04/2022  10:03 PM           126,997 21-22-Emergency Relief Grant-Application.pdf\n",
      "03/07/2022  12:14 AM         1,175,775 a52967a2-84d3-4b03-bf9b-8699d417db34.pdf\n",
      "02/08/2022  07:38 PM       535,052,832 Anaconda3-2021.11-Windows-x86_64.exe\n",
      "02/20/2022  02:25 PM            48,846 Art of criticism.pdf\n",
      "02/06/2022  06:42 PM         1,343,320 ChromeSetup.exe\n",
      "02/10/2022  12:38 AM            18,466 Class Discussion - Week 1 (1).docx\n",
      "02/08/2022  03:51 PM            18,466 Class Discussion - Week 1.docx\n",
      "02/10/2022  09:42 PM            15,871 Class Discussion - Week 2.docx\n",
      "02/27/2022  10:03 PM            17,601 Class Discussion - Week 3.docx\n",
      "02/06/2022  09:16 PM            14,312 Communications Worksheet(3).docx\n",
      "03/02/2022  08:53 PM        10,917,655 DATA-605 (1).zip\n",
      "03/02/2022  08:52 PM        10,917,655 DATA-605.zip\n",
      "02/17/2022  11:22 PM           309,618 DEGREEMAIN.pdf\n",
      "02/21/2022  01:11 AM               756 Documents - Shortcut.lnk\n",
      "02/20/2022  02:06 PM            15,721 ENMG 652 Video links 2021(1).docx\n",
      "02/20/2022  03:24 PM            86,258 Free-Employee-Performance-Evaluation-Review-Form.zip\n",
      "02/09/2022  11:17 PM             6,555 H.ipynb\n",
      "02/09/2022  10:53 PM             7,768 HW-01.ipynb\n",
      "02/13/2022  05:56 PM            19,082 HW-02 (1).ipynb\n",
      "02/13/2022  05:58 PM            19,082 HW-02.ipynb\n",
      "02/21/2022  10:09 AM            20,568 HW-03 (1).ipynb\n",
      "02/21/2022  11:17 AM            24,551 HW-03 (2).ipynb\n",
      "02/21/2022  02:00 PM            28,950 HW-03(saketh).ipynb\n",
      "02/21/2022  01:55 PM            20,658 HW-03.ipynb\n",
      "03/01/2022  06:05 PM            65,189 hw-04-saketh.ipynb\n",
      "03/01/2022  05:24 PM            65,264 hw-04.ipynb\n",
      "03/08/2022  07:21 PM         4,374,205 hw-05 (2) (1).ipynb\n",
      "03/08/2022  07:46 PM         4,951,308 hw-05-saketh.ipynb\n",
      "02/10/2022  12:28 AM             6,555 hw01-1.ipynb\n",
      "02/09/2022  11:01 PM             7,765 HW01.ipynb\n",
      "02/09/2022  10:53 PM             7,872 hw1.ipynb\n",
      "03/01/2022  03:40 PM            38,628 lab04.ipynb\n",
      "03/01/2022  03:41 PM            26,175 lab04_saketh.ipynb\n",
      "02/22/2022  07:42 PM            66,615 lab2 week2.ipynb\n",
      "02/22/2022  07:43 PM            66,615 lab2saketh.ipynb\n",
      "02/22/2022  10:17 PM            65,199 lab3 (1).ipynb\n",
      "02/21/2022  12:01 AM            65,199 lab3 (2).ipynb\n",
      "02/21/2022  12:16 AM            65,151 lab3.ipynb\n",
      "03/01/2022  03:21 PM            38,458 lab_04.ipynb\n",
      "02/09/2022  11:16 PM               257 main.py\n",
      "02/27/2022  05:20 PM            35,385 Motivation_ReinforcementTheory.docx.pdf\n",
      "02/09/2022  11:16 PM               257 my_script.py\n",
      "03/15/2022  04:36 PM           227,653 PoliceShootingsUS.csv\n",
      "02/09/2022  10:51 AM       377,284,568 pycharm-community-2021.3.2.exe\n",
      "02/09/2022  11:00 AM        28,239,176 python-3.10.2-amd64 (1).exe\n",
      "02/09/2022  11:00 AM        28,239,176 python-3.10.2-amd64.exe\n",
      "03/04/2022  11:08 PM               269 receipt-GSAIT_SP2022-Final Assessment Academic Integrity.txt\n",
      "03/01/2022  05:02 PM            48,034 RollingSystemDemand_20220301_2102.csv\n",
      "02/21/2022  01:09 AM        11,813,293 saketh ppt.mp4\n",
      "02/17/2022  11:28 PM           354,443 Spring 2022 UMBC I-20 Magam_SakethReddy[178].pdf\n",
      "03/09/2022  04:37 PM            26,731 STC Case study analysis_(mohammednabeel).docx\n",
      "03/09/2022  04:38 PM            26,793 STC Case study analysis_(mohammednabeel)F.docx\n",
      "02/09/2022  12:29 PM               697 Untitled.ipynb\n",
      "02/09/2022  10:54 PM               588 Untitled1.ipynb\n",
      "02/09/2022  10:53 PM                72 Untitled2.ipynb\n",
      "03/08/2022  07:44 PM         4,726,450 Untitled3.ipynb\n",
      "03/09/2022  04:41 PM        14,738,022 video12577960432.mp4\n",
      "03/15/2022  04:36 PM             7,015 volunteers.txt\n",
      "02/20/2022  05:38 PM            85,939 W16316-PDF-ENG (1).pdf\n",
      "02/20/2022  05:38 PM            85,939 W16316-PDF-ENG.pdf\n",
      "02/08/2022  08:00 PM           419,168 webex.exe\n",
      "02/08/2022  08:01 PM       275,013,632 Webex.msi\n",
      "03/08/2022  10:10 PM            65,861 week06lab\n",
      "03/15/2022  04:36 PM            65,861 week06lab.zip\n",
      "03/15/2022  04:34 PM            73,767 week06_lab.ipynb\n",
      "03/01/2022  10:48 PM           652,439 week5_lab.ipynb\n",
      "02/27/2022  04:41 PM            20,248 Worksheet on motivation theory comparison.docx\n",
      "02/25/2022  09:50 PM            39,501 Worksheet_on_motivation_theory_comparison.docx (1).pdf\n",
      "02/27/2022  05:20 PM            39,501 Worksheet_on_motivation_theory_comparison.docx (2).pdf\n",
      "02/25/2022  09:44 PM            39,501 Worksheet_on_motivation_theory_comparison.docx.pdf\n",
      "02/13/2022  10:45 PM            17,976 Your First Management Assignment[165].docx\n",
      "03/07/2022  12:02 AM        21,158,616 ZoomInstaller.exe\n",
      "03/07/2022  12:02 AM           130,072 Zoom_cm_fo42mnktZ9vvrZo4_mZa1NmB8pWB9ESi7AHpDmpCQ5oT4I5hJ97pui@RgFpX9EQwWOPebMu_k2fd54599292394d4_.exe\n",
      "03/08/2022  10:18 PM    <DIR>          __MACOSX\n",
      "              74 File(s)  1,333,910,220 bytes\n",
      "               4 Dir(s)  47,301,746,688 bytes free\n"
     ]
    }
   ],
   "source": [
    "!dir"
   ]
  },
  {
   "cell_type": "code",
   "execution_count": null,
   "id": "324dfc68",
   "metadata": {},
   "outputs": [],
   "source": []
  },
  {
   "cell_type": "code",
   "execution_count": null,
   "id": "925c0c1f",
   "metadata": {},
   "outputs": [],
   "source": []
  },
  {
   "cell_type": "markdown",
   "id": "3b50c890",
   "metadata": {
    "id": "_kjkZyypfdLD"
   },
   "source": [
    "## Reading data from a csv file"
   ]
  },
  {
   "cell_type": "markdown",
   "id": "eb1e93f2",
   "metadata": {
    "id": "RgyCSGYBgCK0"
   },
   "source": [
    "For the file `PoliceShootingsUS.csv`, please answer the following questions:\n",
    "\n",
    "* How many offenders are older than 55? "
   ]
  },
  {
   "cell_type": "code",
   "execution_count": 14,
   "id": "367088e5",
   "metadata": {
    "id": "v7tImBaOgNwo"
   },
   "outputs": [],
   "source": [
    "## Your code is here\n",
    "import pandas as pd\n",
    "with open('PoliceShootingsUS.csv') as file:\n",
    "    line=file.readline()\n",
    "    "
   ]
  },
  {
   "cell_type": "code",
   "execution_count": 10,
   "id": "1a37c5a4",
   "metadata": {},
   "outputs": [
    {
     "name": "stdout",
     "output_type": "stream",
     "text": [
      "id,name,date,manner_of_death,armed,age,gender,race,city,state,signs_of_mental_illness,threat_level,flee,body_camera\n",
      "\n"
     ]
    }
   ],
   "source": [
    "print(line)"
   ]
  },
  {
   "cell_type": "code",
   "execution_count": 11,
   "id": "68508134",
   "metadata": {},
   "outputs": [
    {
     "name": "stdout",
     "output_type": "stream",
     "text": [
      "{'encoding': 'Windows-1252', 'confidence': 0.73, 'language': ''}\n"
     ]
    }
   ],
   "source": [
    "import chardet\n",
    "with open('PoliceShootingsUS.csv', 'rb') as f:\n",
    "    content = f.read()\n",
    "    result = chardet.detect(content)\n",
    "    print(result)"
   ]
  },
  {
   "cell_type": "code",
   "execution_count": 12,
   "id": "c8e592b0",
   "metadata": {},
   "outputs": [
    {
     "data": {
      "text/plain": [
       "{'encoding': 'Windows-1252', 'confidence': 0.73, 'language': ''}"
      ]
     },
     "execution_count": 12,
     "metadata": {},
     "output_type": "execute_result"
    }
   ],
   "source": [
    "chardet.detect(open('PoliceShootingsUS.csv', 'rb').read())"
   ]
  },
  {
   "cell_type": "code",
   "execution_count": 15,
   "id": "12807578",
   "metadata": {},
   "outputs": [
    {
     "data": {
      "text/html": [
       "<div>\n",
       "<style scoped>\n",
       "    .dataframe tbody tr th:only-of-type {\n",
       "        vertical-align: middle;\n",
       "    }\n",
       "\n",
       "    .dataframe tbody tr th {\n",
       "        vertical-align: top;\n",
       "    }\n",
       "\n",
       "    .dataframe thead th {\n",
       "        text-align: right;\n",
       "    }\n",
       "</style>\n",
       "<table border=\"1\" class=\"dataframe\">\n",
       "  <thead>\n",
       "    <tr style=\"text-align: right;\">\n",
       "      <th></th>\n",
       "      <th>id</th>\n",
       "      <th>name</th>\n",
       "      <th>date</th>\n",
       "      <th>manner_of_death</th>\n",
       "      <th>armed</th>\n",
       "      <th>age</th>\n",
       "      <th>gender</th>\n",
       "      <th>race</th>\n",
       "      <th>city</th>\n",
       "      <th>state</th>\n",
       "      <th>signs_of_mental_illness</th>\n",
       "      <th>threat_level</th>\n",
       "      <th>flee</th>\n",
       "      <th>body_camera</th>\n",
       "    </tr>\n",
       "  </thead>\n",
       "  <tbody>\n",
       "    <tr>\n",
       "      <th>0</th>\n",
       "      <td>3</td>\n",
       "      <td>Tim Elliot</td>\n",
       "      <td>02/01/15</td>\n",
       "      <td>shot</td>\n",
       "      <td>gun</td>\n",
       "      <td>53.0</td>\n",
       "      <td>M</td>\n",
       "      <td>A</td>\n",
       "      <td>Shelton</td>\n",
       "      <td>WA</td>\n",
       "      <td>True</td>\n",
       "      <td>attack</td>\n",
       "      <td>Not fleeing</td>\n",
       "      <td>False</td>\n",
       "    </tr>\n",
       "    <tr>\n",
       "      <th>1</th>\n",
       "      <td>4</td>\n",
       "      <td>Lewis Lee Lembke</td>\n",
       "      <td>02/01/15</td>\n",
       "      <td>shot</td>\n",
       "      <td>gun</td>\n",
       "      <td>47.0</td>\n",
       "      <td>M</td>\n",
       "      <td>W</td>\n",
       "      <td>Aloha</td>\n",
       "      <td>OR</td>\n",
       "      <td>False</td>\n",
       "      <td>attack</td>\n",
       "      <td>Not fleeing</td>\n",
       "      <td>False</td>\n",
       "    </tr>\n",
       "    <tr>\n",
       "      <th>2</th>\n",
       "      <td>5</td>\n",
       "      <td>John Paul Quintero</td>\n",
       "      <td>03/01/15</td>\n",
       "      <td>shot and Tasered</td>\n",
       "      <td>unarmed</td>\n",
       "      <td>23.0</td>\n",
       "      <td>M</td>\n",
       "      <td>H</td>\n",
       "      <td>Wichita</td>\n",
       "      <td>KS</td>\n",
       "      <td>False</td>\n",
       "      <td>other</td>\n",
       "      <td>Not fleeing</td>\n",
       "      <td>False</td>\n",
       "    </tr>\n",
       "    <tr>\n",
       "      <th>3</th>\n",
       "      <td>8</td>\n",
       "      <td>Matthew Hoffman</td>\n",
       "      <td>04/01/15</td>\n",
       "      <td>shot</td>\n",
       "      <td>toy weapon</td>\n",
       "      <td>32.0</td>\n",
       "      <td>M</td>\n",
       "      <td>W</td>\n",
       "      <td>San Francisco</td>\n",
       "      <td>CA</td>\n",
       "      <td>True</td>\n",
       "      <td>attack</td>\n",
       "      <td>Not fleeing</td>\n",
       "      <td>False</td>\n",
       "    </tr>\n",
       "    <tr>\n",
       "      <th>4</th>\n",
       "      <td>9</td>\n",
       "      <td>Michael Rodriguez</td>\n",
       "      <td>04/01/15</td>\n",
       "      <td>shot</td>\n",
       "      <td>nail gun</td>\n",
       "      <td>39.0</td>\n",
       "      <td>M</td>\n",
       "      <td>H</td>\n",
       "      <td>Evans</td>\n",
       "      <td>CO</td>\n",
       "      <td>False</td>\n",
       "      <td>attack</td>\n",
       "      <td>Not fleeing</td>\n",
       "      <td>False</td>\n",
       "    </tr>\n",
       "    <tr>\n",
       "      <th>...</th>\n",
       "      <td>...</td>\n",
       "      <td>...</td>\n",
       "      <td>...</td>\n",
       "      <td>...</td>\n",
       "      <td>...</td>\n",
       "      <td>...</td>\n",
       "      <td>...</td>\n",
       "      <td>...</td>\n",
       "      <td>...</td>\n",
       "      <td>...</td>\n",
       "      <td>...</td>\n",
       "      <td>...</td>\n",
       "      <td>...</td>\n",
       "      <td>...</td>\n",
       "    </tr>\n",
       "    <tr>\n",
       "      <th>2530</th>\n",
       "      <td>2822</td>\n",
       "      <td>Rodney E. Jacobs</td>\n",
       "      <td>28/07/17</td>\n",
       "      <td>shot</td>\n",
       "      <td>gun</td>\n",
       "      <td>31.0</td>\n",
       "      <td>M</td>\n",
       "      <td>NaN</td>\n",
       "      <td>Kansas City</td>\n",
       "      <td>MO</td>\n",
       "      <td>False</td>\n",
       "      <td>attack</td>\n",
       "      <td>Not fleeing</td>\n",
       "      <td>False</td>\n",
       "    </tr>\n",
       "    <tr>\n",
       "      <th>2531</th>\n",
       "      <td>2813</td>\n",
       "      <td>TK TK</td>\n",
       "      <td>28/07/17</td>\n",
       "      <td>shot</td>\n",
       "      <td>vehicle</td>\n",
       "      <td>NaN</td>\n",
       "      <td>M</td>\n",
       "      <td>NaN</td>\n",
       "      <td>Albuquerque</td>\n",
       "      <td>NM</td>\n",
       "      <td>False</td>\n",
       "      <td>attack</td>\n",
       "      <td>Car</td>\n",
       "      <td>False</td>\n",
       "    </tr>\n",
       "    <tr>\n",
       "      <th>2532</th>\n",
       "      <td>2818</td>\n",
       "      <td>Dennis W. Robinson</td>\n",
       "      <td>29/07/17</td>\n",
       "      <td>shot</td>\n",
       "      <td>gun</td>\n",
       "      <td>48.0</td>\n",
       "      <td>M</td>\n",
       "      <td>NaN</td>\n",
       "      <td>Melba</td>\n",
       "      <td>ID</td>\n",
       "      <td>False</td>\n",
       "      <td>attack</td>\n",
       "      <td>Car</td>\n",
       "      <td>False</td>\n",
       "    </tr>\n",
       "    <tr>\n",
       "      <th>2533</th>\n",
       "      <td>2817</td>\n",
       "      <td>Isaiah Tucker</td>\n",
       "      <td>31/07/17</td>\n",
       "      <td>shot</td>\n",
       "      <td>vehicle</td>\n",
       "      <td>28.0</td>\n",
       "      <td>M</td>\n",
       "      <td>B</td>\n",
       "      <td>Oshkosh</td>\n",
       "      <td>WI</td>\n",
       "      <td>False</td>\n",
       "      <td>attack</td>\n",
       "      <td>Car</td>\n",
       "      <td>True</td>\n",
       "    </tr>\n",
       "    <tr>\n",
       "      <th>2534</th>\n",
       "      <td>2815</td>\n",
       "      <td>Dwayne Jeune</td>\n",
       "      <td>31/07/17</td>\n",
       "      <td>shot</td>\n",
       "      <td>knife</td>\n",
       "      <td>32.0</td>\n",
       "      <td>M</td>\n",
       "      <td>B</td>\n",
       "      <td>Brooklyn</td>\n",
       "      <td>NY</td>\n",
       "      <td>True</td>\n",
       "      <td>attack</td>\n",
       "      <td>Not fleeing</td>\n",
       "      <td>False</td>\n",
       "    </tr>\n",
       "  </tbody>\n",
       "</table>\n",
       "<p>2535 rows × 14 columns</p>\n",
       "</div>"
      ],
      "text/plain": [
       "        id                name      date   manner_of_death       armed   age  \\\n",
       "0        3          Tim Elliot  02/01/15              shot         gun  53.0   \n",
       "1        4    Lewis Lee Lembke  02/01/15              shot         gun  47.0   \n",
       "2        5  John Paul Quintero  03/01/15  shot and Tasered     unarmed  23.0   \n",
       "3        8     Matthew Hoffman  04/01/15              shot  toy weapon  32.0   \n",
       "4        9   Michael Rodriguez  04/01/15              shot    nail gun  39.0   \n",
       "...    ...                 ...       ...               ...         ...   ...   \n",
       "2530  2822    Rodney E. Jacobs  28/07/17              shot         gun  31.0   \n",
       "2531  2813               TK TK  28/07/17              shot     vehicle   NaN   \n",
       "2532  2818  Dennis W. Robinson  29/07/17              shot         gun  48.0   \n",
       "2533  2817       Isaiah Tucker  31/07/17              shot     vehicle  28.0   \n",
       "2534  2815        Dwayne Jeune  31/07/17              shot       knife  32.0   \n",
       "\n",
       "     gender race           city state  signs_of_mental_illness threat_level  \\\n",
       "0         M    A        Shelton    WA                     True       attack   \n",
       "1         M    W          Aloha    OR                    False       attack   \n",
       "2         M    H        Wichita    KS                    False        other   \n",
       "3         M    W  San Francisco    CA                     True       attack   \n",
       "4         M    H          Evans    CO                    False       attack   \n",
       "...     ...  ...            ...   ...                      ...          ...   \n",
       "2530      M  NaN    Kansas City    MO                    False       attack   \n",
       "2531      M  NaN    Albuquerque    NM                    False       attack   \n",
       "2532      M  NaN          Melba    ID                    False       attack   \n",
       "2533      M    B        Oshkosh    WI                    False       attack   \n",
       "2534      M    B       Brooklyn    NY                     True       attack   \n",
       "\n",
       "             flee  body_camera  \n",
       "0     Not fleeing        False  \n",
       "1     Not fleeing        False  \n",
       "2     Not fleeing        False  \n",
       "3     Not fleeing        False  \n",
       "4     Not fleeing        False  \n",
       "...           ...          ...  \n",
       "2530  Not fleeing        False  \n",
       "2531          Car        False  \n",
       "2532          Car        False  \n",
       "2533          Car         True  \n",
       "2534  Not fleeing        False  \n",
       "\n",
       "[2535 rows x 14 columns]"
      ]
     },
     "execution_count": 15,
     "metadata": {},
     "output_type": "execute_result"
    }
   ],
   "source": [
    "df = pd.read_csv('PoliceShootingsUS.csv', encoding='Windows-1252')\n",
    "df"
   ]
  },
  {
   "cell_type": "code",
   "execution_count": 16,
   "id": "29d1990b",
   "metadata": {},
   "outputs": [
    {
     "name": "stdout",
     "output_type": "stream",
     "text": [
      "235\n"
     ]
    }
   ],
   "source": [
    "#calcuating the number of offenders with age older than 55\n",
    "\n",
    "offender_count  =0\n",
    "for i in df.age :\n",
    "    if i>55:\n",
    "        offender_count = offender_count+1\n",
    "print(offender_count)"
   ]
  },
  {
   "cell_type": "markdown",
   "id": "02305a57",
   "metadata": {},
   "source": [
    "* What's the age distribution?"
   ]
  },
  {
   "cell_type": "code",
   "execution_count": 17,
   "id": "0b4f74c9",
   "metadata": {
    "id": "v7tImBaOgNwo"
   },
   "outputs": [
    {
     "data": {
      "text/plain": [
       "Text(0.5, 1.0, 'age distribution')"
      ]
     },
     "execution_count": 17,
     "metadata": {},
     "output_type": "execute_result"
    },
    {
     "data": {
      "image/png": "[encoded data removed]",
      "text/plain": [
       "<Figure size 432x288 with 1 Axes>"
      ]
     },
     "metadata": {
      "needs_background": "light"
     },
     "output_type": "display_data"
    }
   ],
   "source": [
    "## Your code is here\n",
    "#plotting the age distribution using hist0gram \n",
    "import matplotlib.pyplot as plt\n",
    "df.age.hist()\n",
    "plt.ylabel('offenders')\n",
    "plt.xlabel('age')\n",
    "plt.title('age distribution')"
   ]
  },
  {
   "cell_type": "code",
   "execution_count": 18,
   "id": "58b7ac2c",
   "metadata": {},
   "outputs": [
    {
     "data": {
      "text/plain": [
       "89976.0"
      ]
     },
     "execution_count": 18,
     "metadata": {},
     "output_type": "execute_result"
    }
   ],
   "source": [
    "#sum total of all the offenders\n",
    "df.age.sum()"
   ]
  },
  {
   "cell_type": "code",
   "execution_count": 19,
   "id": "3a58f0e2",
   "metadata": {},
   "outputs": [
    {
     "data": {
      "text/plain": [
       "6.0"
      ]
     },
     "execution_count": 19,
     "metadata": {},
     "output_type": "execute_result"
    }
   ],
   "source": [
    "#minimum age of the offender among all the offenders\n",
    "df.age.min()"
   ]
  },
  {
   "cell_type": "code",
   "execution_count": 20,
   "id": "93134269",
   "metadata": {},
   "outputs": [
    {
     "data": {
      "text/plain": [
       "91.0"
      ]
     },
     "execution_count": 20,
     "metadata": {},
     "output_type": "execute_result"
    }
   ],
   "source": [
    "#maximum age of the offender among all the offenders\n",
    "df.age.max()"
   ]
  },
  {
   "cell_type": "code",
   "execution_count": 21,
   "id": "f27be368",
   "metadata": {},
   "outputs": [
    {
     "data": {
      "text/plain": [
       "36.605370219690805"
      ]
     },
     "execution_count": 21,
     "metadata": {},
     "output_type": "execute_result"
    }
   ],
   "source": [
    "#mean age of the offenders\n",
    "df.age.mean()"
   ]
  },
  {
   "cell_type": "markdown",
   "id": "fea7d570",
   "metadata": {},
   "source": [
    "## Dirty data\n",
    "\n",
    "Read `volunteers.txt` file and perform the following action:\n",
    "\n",
    "* Create a dataframe with columns: Name, Lastname, State"
   ]
  },
  {
   "cell_type": "code",
   "execution_count": 40,
   "id": "8c0f7665",
   "metadata": {},
   "outputs": [
    {
     "data": {
      "text/html": [
       "<div>\n",
       "<style scoped>\n",
       "    .dataframe tbody tr th:only-of-type {\n",
       "        vertical-align: middle;\n",
       "    }\n",
       "\n",
       "    .dataframe tbody tr th {\n",
       "        vertical-align: top;\n",
       "    }\n",
       "\n",
       "    .dataframe thead th {\n",
       "        text-align: right;\n",
       "    }\n",
       "</style>\n",
       "<table border=\"1\" class=\"dataframe\">\n",
       "  <thead>\n",
       "    <tr style=\"text-align: right;\">\n",
       "      <th></th>\n",
       "      <th>log[Harding</th>\n",
       "      <th>Christine] (Virginia) - Universal human-resource flexibility</th>\n",
       "    </tr>\n",
       "  </thead>\n",
       "  <tbody>\n",
       "    <tr>\n",
       "      <th>0</th>\n",
       "      <td>log[Davis</td>\n",
       "      <td>Kimberly] (New York) - Compatible demand-driv...</td>\n",
       "    </tr>\n",
       "    <tr>\n",
       "      <th>1</th>\n",
       "      <td>log[Ingram</td>\n",
       "      <td>Rachel] (Louisiana) - Versatile multimedia we...</td>\n",
       "    </tr>\n",
       "    <tr>\n",
       "      <th>2</th>\n",
       "      <td>log[Walker</td>\n",
       "      <td>Richard] (Oregon) - Networked eco-centric app...</td>\n",
       "    </tr>\n",
       "    <tr>\n",
       "      <th>3</th>\n",
       "      <td>log[Barnes</td>\n",
       "      <td>Francisco] (Virginia) - Persistent systematic...</td>\n",
       "    </tr>\n",
       "    <tr>\n",
       "      <th>4</th>\n",
       "      <td>log[Perez</td>\n",
       "      <td>Rachel] (Alaska) - Optimized national portal</td>\n",
       "    </tr>\n",
       "    <tr>\n",
       "      <th>...</th>\n",
       "      <td>...</td>\n",
       "      <td>...</td>\n",
       "    </tr>\n",
       "    <tr>\n",
       "      <th>94</th>\n",
       "      <td>log[Smith</td>\n",
       "      <td>Kevin] (North Dakota) - Seamless discrete tim...</td>\n",
       "    </tr>\n",
       "    <tr>\n",
       "      <th>95</th>\n",
       "      <td>log[Moore</td>\n",
       "      <td>Mark] (Alaska) - Team-oriented actuating capa...</td>\n",
       "    </tr>\n",
       "    <tr>\n",
       "      <th>96</th>\n",
       "      <td>log[Landry</td>\n",
       "      <td>Jennifer] (Wyoming) - User-centric object-ori...</td>\n",
       "    </tr>\n",
       "    <tr>\n",
       "      <th>97</th>\n",
       "      <td>log[Phillips</td>\n",
       "      <td>Lori] (Arkansas) - Sharable content-based par...</td>\n",
       "    </tr>\n",
       "    <tr>\n",
       "      <th>98</th>\n",
       "      <td>log[Davis</td>\n",
       "      <td>Tiffany] (Mississippi) - Focused asynchronous...</td>\n",
       "    </tr>\n",
       "  </tbody>\n",
       "</table>\n",
       "<p>99 rows × 2 columns</p>\n",
       "</div>"
      ],
      "text/plain": [
       "     log[Harding  Christine] (Virginia) - Universal human-resource flexibility\n",
       "0      log[Davis   Kimberly] (New York) - Compatible demand-driv...           \n",
       "1     log[Ingram   Rachel] (Louisiana) - Versatile multimedia we...           \n",
       "2     log[Walker   Richard] (Oregon) - Networked eco-centric app...           \n",
       "3     log[Barnes   Francisco] (Virginia) - Persistent systematic...           \n",
       "4      log[Perez       Rachel] (Alaska) - Optimized national portal           \n",
       "..           ...                                                ...           \n",
       "94     log[Smith   Kevin] (North Dakota) - Seamless discrete tim...           \n",
       "95     log[Moore   Mark] (Alaska) - Team-oriented actuating capa...           \n",
       "96    log[Landry   Jennifer] (Wyoming) - User-centric object-ori...           \n",
       "97  log[Phillips   Lori] (Arkansas) - Sharable content-based par...           \n",
       "98     log[Davis   Tiffany] (Mississippi) - Focused asynchronous...           \n",
       "\n",
       "[99 rows x 2 columns]"
      ]
     },
     "execution_count": 40,
     "metadata": {},
     "output_type": "execute_result"
    }
   ],
   "source": [
    "## Your code is here\n",
    "df = pd.read_csv('volunteers.txt')\n",
    "df"
   ]
  },
  {
   "cell_type": "code",
   "execution_count": 30,
   "id": "4d8312eb",
   "metadata": {},
   "outputs": [
    {
     "name": "stdout",
     "output_type": "stream",
     "text": [
      "<class 'pandas.core.frame.DataFrame'>\n",
      "RangeIndex: 99 entries, 0 to 98\n",
      "Data columns (total 2 columns):\n",
      " #   Column                                                         Non-Null Count  Dtype \n",
      "---  ------                                                         --------------  ----- \n",
      " 0   log[Harding                                                    99 non-null     object\n",
      " 1    Christine] (Virginia) - Universal human-resource flexibility  99 non-null     object\n",
      "dtypes: object(2)\n",
      "memory usage: 1.7+ KB\n"
     ]
    }
   ],
   "source": [
    "df.info()"
   ]
  },
  {
   "cell_type": "code",
   "execution_count": 32,
   "id": "95d1deb8",
   "metadata": {},
   "outputs": [
    {
     "data": {
      "text/plain": [
       "['log[Harding',\n",
       " ' Christine] (Virginia) - Universal human-resource flexibility']"
      ]
     },
     "execution_count": 32,
     "metadata": {},
     "output_type": "execute_result"
    }
   ],
   "source": [
    "list(df)"
   ]
  },
  {
   "cell_type": "code",
   "execution_count": 48,
   "id": "b0c67e5b",
   "metadata": {},
   "outputs": [],
   "source": [
    "df2= df['log[Harding'].str.split(pat='[', n = 1, expand=True)"
   ]
  },
  {
   "cell_type": "code",
   "execution_count": 49,
   "id": "86b9b22f",
   "metadata": {},
   "outputs": [],
   "source": [
    "df3= df[' Christine] (Virginia) - Universal human-resource flexibility'].str.split(pat=']', n = 0, expand=True)"
   ]
  },
  {
   "cell_type": "code",
   "execution_count": 107,
   "id": "88c2715f",
   "metadata": {},
   "outputs": [
    {
     "data": {
      "text/html": [
       "<div>\n",
       "<style scoped>\n",
       "    .dataframe tbody tr th:only-of-type {\n",
       "        vertical-align: middle;\n",
       "    }\n",
       "\n",
       "    .dataframe tbody tr th {\n",
       "        vertical-align: top;\n",
       "    }\n",
       "\n",
       "    .dataframe thead th {\n",
       "        text-align: right;\n",
       "    }\n",
       "</style>\n",
       "<table border=\"1\" class=\"dataframe\">\n",
       "  <thead>\n",
       "    <tr style=\"text-align: right;\">\n",
       "      <th></th>\n",
       "      <th>0</th>\n",
       "      <th>1</th>\n",
       "    </tr>\n",
       "  </thead>\n",
       "  <tbody>\n",
       "    <tr>\n",
       "      <th>0</th>\n",
       "      <td>log</td>\n",
       "      <td>Davis</td>\n",
       "    </tr>\n",
       "    <tr>\n",
       "      <th>1</th>\n",
       "      <td>log</td>\n",
       "      <td>Ingram</td>\n",
       "    </tr>\n",
       "    <tr>\n",
       "      <th>2</th>\n",
       "      <td>log</td>\n",
       "      <td>Walker</td>\n",
       "    </tr>\n",
       "    <tr>\n",
       "      <th>3</th>\n",
       "      <td>log</td>\n",
       "      <td>Barnes</td>\n",
       "    </tr>\n",
       "    <tr>\n",
       "      <th>4</th>\n",
       "      <td>log</td>\n",
       "      <td>Perez</td>\n",
       "    </tr>\n",
       "    <tr>\n",
       "      <th>...</th>\n",
       "      <td>...</td>\n",
       "      <td>...</td>\n",
       "    </tr>\n",
       "    <tr>\n",
       "      <th>94</th>\n",
       "      <td>log</td>\n",
       "      <td>Smith</td>\n",
       "    </tr>\n",
       "    <tr>\n",
       "      <th>95</th>\n",
       "      <td>log</td>\n",
       "      <td>Moore</td>\n",
       "    </tr>\n",
       "    <tr>\n",
       "      <th>96</th>\n",
       "      <td>log</td>\n",
       "      <td>Landry</td>\n",
       "    </tr>\n",
       "    <tr>\n",
       "      <th>97</th>\n",
       "      <td>log</td>\n",
       "      <td>Phillips</td>\n",
       "    </tr>\n",
       "    <tr>\n",
       "      <th>98</th>\n",
       "      <td>log</td>\n",
       "      <td>Davis</td>\n",
       "    </tr>\n",
       "  </tbody>\n",
       "</table>\n",
       "<p>99 rows × 2 columns</p>\n",
       "</div>"
      ],
      "text/plain": [
       "      0         1\n",
       "0   log     Davis\n",
       "1   log    Ingram\n",
       "2   log    Walker\n",
       "3   log    Barnes\n",
       "4   log     Perez\n",
       "..  ...       ...\n",
       "94  log     Smith\n",
       "95  log     Moore\n",
       "96  log    Landry\n",
       "97  log  Phillips\n",
       "98  log     Davis\n",
       "\n",
       "[99 rows x 2 columns]"
      ]
     },
     "execution_count": 107,
     "metadata": {},
     "output_type": "execute_result"
    }
   ],
   "source": [
    "df2"
   ]
  },
  {
   "cell_type": "code",
   "execution_count": 50,
   "id": "8f988366",
   "metadata": {},
   "outputs": [
    {
     "data": {
      "text/html": [
       "<div>\n",
       "<style scoped>\n",
       "    .dataframe tbody tr th:only-of-type {\n",
       "        vertical-align: middle;\n",
       "    }\n",
       "\n",
       "    .dataframe tbody tr th {\n",
       "        vertical-align: top;\n",
       "    }\n",
       "\n",
       "    .dataframe thead th {\n",
       "        text-align: right;\n",
       "    }\n",
       "</style>\n",
       "<table border=\"1\" class=\"dataframe\">\n",
       "  <thead>\n",
       "    <tr style=\"text-align: right;\">\n",
       "      <th></th>\n",
       "      <th>0</th>\n",
       "      <th>1</th>\n",
       "    </tr>\n",
       "  </thead>\n",
       "  <tbody>\n",
       "    <tr>\n",
       "      <th>0</th>\n",
       "      <td>Kimberly</td>\n",
       "      <td>(New York) - Compatible demand-driven hub</td>\n",
       "    </tr>\n",
       "    <tr>\n",
       "      <th>1</th>\n",
       "      <td>Rachel</td>\n",
       "      <td>(Louisiana) - Versatile multimedia website</td>\n",
       "    </tr>\n",
       "    <tr>\n",
       "      <th>2</th>\n",
       "      <td>Richard</td>\n",
       "      <td>(Oregon) - Networked eco-centric approach</td>\n",
       "    </tr>\n",
       "    <tr>\n",
       "      <th>3</th>\n",
       "      <td>Francisco</td>\n",
       "      <td>(Virginia) - Persistent systematic moratorium</td>\n",
       "    </tr>\n",
       "    <tr>\n",
       "      <th>4</th>\n",
       "      <td>Rachel</td>\n",
       "      <td>(Alaska) - Optimized national portal</td>\n",
       "    </tr>\n",
       "    <tr>\n",
       "      <th>...</th>\n",
       "      <td>...</td>\n",
       "      <td>...</td>\n",
       "    </tr>\n",
       "    <tr>\n",
       "      <th>94</th>\n",
       "      <td>Kevin</td>\n",
       "      <td>(North Dakota) - Seamless discrete time-frame</td>\n",
       "    </tr>\n",
       "    <tr>\n",
       "      <th>95</th>\n",
       "      <td>Mark</td>\n",
       "      <td>(Alaska) - Team-oriented actuating capacity</td>\n",
       "    </tr>\n",
       "    <tr>\n",
       "      <th>96</th>\n",
       "      <td>Jennifer</td>\n",
       "      <td>(Wyoming) - User-centric object-oriented neur...</td>\n",
       "    </tr>\n",
       "    <tr>\n",
       "      <th>97</th>\n",
       "      <td>Lori</td>\n",
       "      <td>(Arkansas) - Sharable content-based parallelism</td>\n",
       "    </tr>\n",
       "    <tr>\n",
       "      <th>98</th>\n",
       "      <td>Tiffany</td>\n",
       "      <td>(Mississippi) - Focused asynchronous process ...</td>\n",
       "    </tr>\n",
       "  </tbody>\n",
       "</table>\n",
       "<p>99 rows × 2 columns</p>\n",
       "</div>"
      ],
      "text/plain": [
       "             0                                                  1\n",
       "0     Kimberly          (New York) - Compatible demand-driven hub\n",
       "1       Rachel         (Louisiana) - Versatile multimedia website\n",
       "2      Richard          (Oregon) - Networked eco-centric approach\n",
       "3    Francisco      (Virginia) - Persistent systematic moratorium\n",
       "4       Rachel               (Alaska) - Optimized national portal\n",
       "..         ...                                                ...\n",
       "94       Kevin      (North Dakota) - Seamless discrete time-frame\n",
       "95        Mark        (Alaska) - Team-oriented actuating capacity\n",
       "96    Jennifer   (Wyoming) - User-centric object-oriented neur...\n",
       "97        Lori    (Arkansas) - Sharable content-based parallelism\n",
       "98     Tiffany   (Mississippi) - Focused asynchronous process ...\n",
       "\n",
       "[99 rows x 2 columns]"
      ]
     },
     "execution_count": 50,
     "metadata": {},
     "output_type": "execute_result"
    }
   ],
   "source": [
    "df3"
   ]
  },
  {
   "cell_type": "code",
   "execution_count": 101,
   "id": "d000dda0",
   "metadata": {},
   "outputs": [],
   "source": [
    "df6=df3[1].str.split(pat=')', n = 1, expand=True)"
   ]
  },
  {
   "cell_type": "code",
   "execution_count": 102,
   "id": "1482185e",
   "metadata": {},
   "outputs": [
    {
     "data": {
      "text/html": [
       "<div>\n",
       "<style scoped>\n",
       "    .dataframe tbody tr th:only-of-type {\n",
       "        vertical-align: middle;\n",
       "    }\n",
       "\n",
       "    .dataframe tbody tr th {\n",
       "        vertical-align: top;\n",
       "    }\n",
       "\n",
       "    .dataframe thead th {\n",
       "        text-align: right;\n",
       "    }\n",
       "</style>\n",
       "<table border=\"1\" class=\"dataframe\">\n",
       "  <thead>\n",
       "    <tr style=\"text-align: right;\">\n",
       "      <th></th>\n",
       "      <th>0</th>\n",
       "      <th>1</th>\n",
       "    </tr>\n",
       "  </thead>\n",
       "  <tbody>\n",
       "    <tr>\n",
       "      <th>0</th>\n",
       "      <td>(New York</td>\n",
       "      <td>- Compatible demand-driven hub</td>\n",
       "    </tr>\n",
       "    <tr>\n",
       "      <th>1</th>\n",
       "      <td>(Louisiana</td>\n",
       "      <td>- Versatile multimedia website</td>\n",
       "    </tr>\n",
       "    <tr>\n",
       "      <th>2</th>\n",
       "      <td>(Oregon</td>\n",
       "      <td>- Networked eco-centric approach</td>\n",
       "    </tr>\n",
       "    <tr>\n",
       "      <th>3</th>\n",
       "      <td>(Virginia</td>\n",
       "      <td>- Persistent systematic moratorium</td>\n",
       "    </tr>\n",
       "    <tr>\n",
       "      <th>4</th>\n",
       "      <td>(Alaska</td>\n",
       "      <td>- Optimized national portal</td>\n",
       "    </tr>\n",
       "    <tr>\n",
       "      <th>...</th>\n",
       "      <td>...</td>\n",
       "      <td>...</td>\n",
       "    </tr>\n",
       "    <tr>\n",
       "      <th>94</th>\n",
       "      <td>(North Dakota</td>\n",
       "      <td>- Seamless discrete time-frame</td>\n",
       "    </tr>\n",
       "    <tr>\n",
       "      <th>95</th>\n",
       "      <td>(Alaska</td>\n",
       "      <td>- Team-oriented actuating capacity</td>\n",
       "    </tr>\n",
       "    <tr>\n",
       "      <th>96</th>\n",
       "      <td>(Wyoming</td>\n",
       "      <td>- User-centric object-oriented neural-net</td>\n",
       "    </tr>\n",
       "    <tr>\n",
       "      <th>97</th>\n",
       "      <td>(Arkansas</td>\n",
       "      <td>- Sharable content-based parallelism</td>\n",
       "    </tr>\n",
       "    <tr>\n",
       "      <th>98</th>\n",
       "      <td>(Mississippi</td>\n",
       "      <td>- Focused asynchronous process improvement</td>\n",
       "    </tr>\n",
       "  </tbody>\n",
       "</table>\n",
       "<p>99 rows × 2 columns</p>\n",
       "</div>"
      ],
      "text/plain": [
       "                 0                                            1\n",
       "0        (New York               - Compatible demand-driven hub\n",
       "1       (Louisiana               - Versatile multimedia website\n",
       "2          (Oregon             - Networked eco-centric approach\n",
       "3        (Virginia           - Persistent systematic moratorium\n",
       "4          (Alaska                  - Optimized national portal\n",
       "..             ...                                          ...\n",
       "94   (North Dakota               - Seamless discrete time-frame\n",
       "95         (Alaska           - Team-oriented actuating capacity\n",
       "96        (Wyoming    - User-centric object-oriented neural-net\n",
       "97       (Arkansas         - Sharable content-based parallelism\n",
       "98    (Mississippi   - Focused asynchronous process improvement\n",
       "\n",
       "[99 rows x 2 columns]"
      ]
     },
     "execution_count": 102,
     "metadata": {},
     "output_type": "execute_result"
    }
   ],
   "source": [
    "df6"
   ]
  },
  {
   "cell_type": "code",
   "execution_count": 103,
   "id": "0e6870a0",
   "metadata": {},
   "outputs": [],
   "source": [
    "df7=df6[0].str.split(pat='(', n = 1, expand=True)"
   ]
  },
  {
   "cell_type": "code",
   "execution_count": 104,
   "id": "7c37985a",
   "metadata": {},
   "outputs": [
    {
     "data": {
      "text/html": [
       "<div>\n",
       "<style scoped>\n",
       "    .dataframe tbody tr th:only-of-type {\n",
       "        vertical-align: middle;\n",
       "    }\n",
       "\n",
       "    .dataframe tbody tr th {\n",
       "        vertical-align: top;\n",
       "    }\n",
       "\n",
       "    .dataframe thead th {\n",
       "        text-align: right;\n",
       "    }\n",
       "</style>\n",
       "<table border=\"1\" class=\"dataframe\">\n",
       "  <thead>\n",
       "    <tr style=\"text-align: right;\">\n",
       "      <th></th>\n",
       "      <th>0</th>\n",
       "      <th>1</th>\n",
       "    </tr>\n",
       "  </thead>\n",
       "  <tbody>\n",
       "    <tr>\n",
       "      <th>0</th>\n",
       "      <td></td>\n",
       "      <td>New York</td>\n",
       "    </tr>\n",
       "    <tr>\n",
       "      <th>1</th>\n",
       "      <td></td>\n",
       "      <td>Louisiana</td>\n",
       "    </tr>\n",
       "    <tr>\n",
       "      <th>2</th>\n",
       "      <td></td>\n",
       "      <td>Oregon</td>\n",
       "    </tr>\n",
       "    <tr>\n",
       "      <th>3</th>\n",
       "      <td></td>\n",
       "      <td>Virginia</td>\n",
       "    </tr>\n",
       "    <tr>\n",
       "      <th>4</th>\n",
       "      <td></td>\n",
       "      <td>Alaska</td>\n",
       "    </tr>\n",
       "    <tr>\n",
       "      <th>...</th>\n",
       "      <td>...</td>\n",
       "      <td>...</td>\n",
       "    </tr>\n",
       "    <tr>\n",
       "      <th>94</th>\n",
       "      <td></td>\n",
       "      <td>North Dakota</td>\n",
       "    </tr>\n",
       "    <tr>\n",
       "      <th>95</th>\n",
       "      <td></td>\n",
       "      <td>Alaska</td>\n",
       "    </tr>\n",
       "    <tr>\n",
       "      <th>96</th>\n",
       "      <td></td>\n",
       "      <td>Wyoming</td>\n",
       "    </tr>\n",
       "    <tr>\n",
       "      <th>97</th>\n",
       "      <td></td>\n",
       "      <td>Arkansas</td>\n",
       "    </tr>\n",
       "    <tr>\n",
       "      <th>98</th>\n",
       "      <td></td>\n",
       "      <td>Mississippi</td>\n",
       "    </tr>\n",
       "  </tbody>\n",
       "</table>\n",
       "<p>99 rows × 2 columns</p>\n",
       "</div>"
      ],
      "text/plain": [
       "    0             1\n",
       "0          New York\n",
       "1         Louisiana\n",
       "2            Oregon\n",
       "3          Virginia\n",
       "4            Alaska\n",
       ".. ..           ...\n",
       "94     North Dakota\n",
       "95           Alaska\n",
       "96          Wyoming\n",
       "97         Arkansas\n",
       "98      Mississippi\n",
       "\n",
       "[99 rows x 2 columns]"
      ]
     },
     "execution_count": 104,
     "metadata": {},
     "output_type": "execute_result"
    }
   ],
   "source": [
    "df7"
   ]
  },
  {
   "cell_type": "code",
   "execution_count": 105,
   "id": "6cf6061c",
   "metadata": {},
   "outputs": [],
   "source": [
    "new = pd.DataFrame().assign(name=df2[1], lastname=df3[0], state=df7[1])"
   ]
  },
  {
   "cell_type": "code",
   "execution_count": 106,
   "id": "3773593a",
   "metadata": {},
   "outputs": [
    {
     "data": {
      "text/html": [
       "<div>\n",
       "<style scoped>\n",
       "    .dataframe tbody tr th:only-of-type {\n",
       "        vertical-align: middle;\n",
       "    }\n",
       "\n",
       "    .dataframe tbody tr th {\n",
       "        vertical-align: top;\n",
       "    }\n",
       "\n",
       "    .dataframe thead th {\n",
       "        text-align: right;\n",
       "    }\n",
       "</style>\n",
       "<table border=\"1\" class=\"dataframe\">\n",
       "  <thead>\n",
       "    <tr style=\"text-align: right;\">\n",
       "      <th></th>\n",
       "      <th>name</th>\n",
       "      <th>lastname</th>\n",
       "      <th>state</th>\n",
       "    </tr>\n",
       "  </thead>\n",
       "  <tbody>\n",
       "    <tr>\n",
       "      <th>0</th>\n",
       "      <td>Davis</td>\n",
       "      <td>Kimberly</td>\n",
       "      <td>New York</td>\n",
       "    </tr>\n",
       "    <tr>\n",
       "      <th>1</th>\n",
       "      <td>Ingram</td>\n",
       "      <td>Rachel</td>\n",
       "      <td>Louisiana</td>\n",
       "    </tr>\n",
       "    <tr>\n",
       "      <th>2</th>\n",
       "      <td>Walker</td>\n",
       "      <td>Richard</td>\n",
       "      <td>Oregon</td>\n",
       "    </tr>\n",
       "    <tr>\n",
       "      <th>3</th>\n",
       "      <td>Barnes</td>\n",
       "      <td>Francisco</td>\n",
       "      <td>Virginia</td>\n",
       "    </tr>\n",
       "    <tr>\n",
       "      <th>4</th>\n",
       "      <td>Perez</td>\n",
       "      <td>Rachel</td>\n",
       "      <td>Alaska</td>\n",
       "    </tr>\n",
       "    <tr>\n",
       "      <th>...</th>\n",
       "      <td>...</td>\n",
       "      <td>...</td>\n",
       "      <td>...</td>\n",
       "    </tr>\n",
       "    <tr>\n",
       "      <th>94</th>\n",
       "      <td>Smith</td>\n",
       "      <td>Kevin</td>\n",
       "      <td>North Dakota</td>\n",
       "    </tr>\n",
       "    <tr>\n",
       "      <th>95</th>\n",
       "      <td>Moore</td>\n",
       "      <td>Mark</td>\n",
       "      <td>Alaska</td>\n",
       "    </tr>\n",
       "    <tr>\n",
       "      <th>96</th>\n",
       "      <td>Landry</td>\n",
       "      <td>Jennifer</td>\n",
       "      <td>Wyoming</td>\n",
       "    </tr>\n",
       "    <tr>\n",
       "      <th>97</th>\n",
       "      <td>Phillips</td>\n",
       "      <td>Lori</td>\n",
       "      <td>Arkansas</td>\n",
       "    </tr>\n",
       "    <tr>\n",
       "      <th>98</th>\n",
       "      <td>Davis</td>\n",
       "      <td>Tiffany</td>\n",
       "      <td>Mississippi</td>\n",
       "    </tr>\n",
       "  </tbody>\n",
       "</table>\n",
       "<p>99 rows × 3 columns</p>\n",
       "</div>"
      ],
      "text/plain": [
       "        name    lastname         state\n",
       "0      Davis    Kimberly      New York\n",
       "1     Ingram      Rachel     Louisiana\n",
       "2     Walker     Richard        Oregon\n",
       "3     Barnes   Francisco      Virginia\n",
       "4      Perez      Rachel        Alaska\n",
       "..       ...         ...           ...\n",
       "94     Smith       Kevin  North Dakota\n",
       "95     Moore        Mark        Alaska\n",
       "96    Landry    Jennifer       Wyoming\n",
       "97  Phillips        Lori      Arkansas\n",
       "98     Davis     Tiffany   Mississippi\n",
       "\n",
       "[99 rows x 3 columns]"
      ]
     },
     "execution_count": 106,
     "metadata": {},
     "output_type": "execute_result"
    }
   ],
   "source": [
    "# final new dataframe with name lastname and state\n",
    "new"
   ]
  },
  {
   "cell_type": "code",
   "execution_count": null,
   "id": "16a58fc0",
   "metadata": {},
   "outputs": [],
   "source": []
  },
  {
   "cell_type": "code",
   "execution_count": null,
   "id": "16c6225b",
   "metadata": {},
   "outputs": [],
   "source": []
  },
  {
   "cell_type": "code",
   "execution_count": null,
   "id": "ba69cceb",
   "metadata": {},
   "outputs": [],
   "source": []
  },
  {
   "cell_type": "code",
   "execution_count": null,
   "id": "f97a2f96",
   "metadata": {},
   "outputs": [],
   "source": []
  },
  {
   "cell_type": "code",
   "execution_count": 89,
   "id": "c214cb55",
   "metadata": {},
   "outputs": [
    {
     "data": {
      "text/plain": [
       "0                                                      Kimberly\n",
       "1                                                        Rachel\n",
       "2                                                       Richard\n",
       "3                                                     Francisco\n",
       "4                                                        Rachel\n",
       "                                    ...                        \n",
       "97                                                         Lori\n",
       "98                                                      Tiffany\n",
       "name          0        Davis\n",
       "1       Ingram\n",
       "2       Walker\n",
       "3...\n",
       "last name     0       Kimberly\n",
       "1         Rachel\n",
       "2        Ric...\n",
       "first name    0        Davis\n",
       "1       Ingram\n",
       "2       Walker\n",
       "3...\n",
       "Name: 0, Length: 102, dtype: object"
      ]
     },
     "execution_count": 89,
     "metadata": {},
     "output_type": "execute_result"
    }
   ],
   "source": [
    "df5"
   ]
  },
  {
   "cell_type": "code",
   "execution_count": 84,
   "id": "1aa31042",
   "metadata": {},
   "outputs": [
    {
     "data": {
      "text/plain": [
       "0       Kimberly\n",
       "1         Rachel\n",
       "2        Richard\n",
       "3      Francisco\n",
       "4         Rachel\n",
       "         ...    \n",
       "94         Kevin\n",
       "95          Mark\n",
       "96      Jennifer\n",
       "97          Lori\n",
       "98       Tiffany\n",
       "Name: 0, Length: 198, dtype: object"
      ]
     },
     "execution_count": 84,
     "metadata": {},
     "output_type": "execute_result"
    }
   ],
   "source": []
  },
  {
   "cell_type": "code",
   "execution_count": null,
   "id": "37e5a1fb",
   "metadata": {},
   "outputs": [],
   "source": []
  },
  {
   "cell_type": "code",
   "execution_count": null,
   "id": "9c1c66db",
   "metadata": {},
   "outputs": [],
   "source": []
  },
  {
   "cell_type": "code",
   "execution_count": 82,
   "id": "9ba81c03",
   "metadata": {},
   "outputs": [
    {
     "data": {
      "text/plain": [
       "0                                                     Kimberly\n",
       "1                                                       Rachel\n",
       "2                                                      Richard\n",
       "3                                                    Francisco\n",
       "4                                                       Rachel\n",
       "                                   ...                        \n",
       "96                                                    Jennifer\n",
       "97                                                        Lori\n",
       "98                                                     Tiffany\n",
       "name         0        Davis\n",
       "1       Ingram\n",
       "2       Walker\n",
       "3...\n",
       "last name    0       Kimberly\n",
       "1         Rachel\n",
       "2        Ric...\n",
       "Name: 0, Length: 101, dtype: object"
      ]
     },
     "execution_count": 82,
     "metadata": {},
     "output_type": "execute_result"
    }
   ],
   "source": []
  },
  {
   "cell_type": "code",
   "execution_count": null,
   "id": "60213ff9",
   "metadata": {},
   "outputs": [],
   "source": []
  },
  {
   "cell_type": "code",
   "execution_count": null,
   "id": "2547abcd",
   "metadata": {},
   "outputs": [],
   "source": []
  },
  {
   "cell_type": "code",
   "execution_count": null,
   "id": "be8054a4",
   "metadata": {},
   "outputs": [],
   "source": []
  },
  {
   "cell_type": "code",
   "execution_count": null,
   "id": "e5f787f2",
   "metadata": {},
   "outputs": [],
   "source": []
  },
  {
   "cell_type": "code",
   "execution_count": null,
   "id": "87230a7b",
   "metadata": {},
   "outputs": [],
   "source": []
  },
  {
   "cell_type": "code",
   "execution_count": null,
   "id": "e2a9b288",
   "metadata": {},
   "outputs": [],
   "source": []
  },
  {
   "cell_type": "code",
   "execution_count": null,
   "id": "51d9b548",
   "metadata": {},
   "outputs": [],
   "source": []
  },
  {
   "cell_type": "code",
   "execution_count": null,
   "id": "a05b4f58",
   "metadata": {},
   "outputs": [],
   "source": []
  },
  {
   "cell_type": "code",
   "execution_count": null,
   "id": "cf0259df",
   "metadata": {},
   "outputs": [],
   "source": []
  },
  {
   "cell_type": "code",
   "execution_count": null,
   "id": "7538494b",
   "metadata": {},
   "outputs": [],
   "source": []
  },
  {
   "cell_type": "code",
   "execution_count": null,
   "id": "7e3b8cf2",
   "metadata": {},
   "outputs": [],
   "source": []
  },
  {
   "cell_type": "code",
   "execution_count": null,
   "id": "5e037ce5",
   "metadata": {},
   "outputs": [],
   "source": []
  },
  {
   "cell_type": "code",
   "execution_count": null,
   "id": "217407d6",
   "metadata": {},
   "outputs": [],
   "source": []
  }
 ],
 "metadata": {
  "kernelspec": {
   "display_name": "Python 3 (ipykernel)",
   "language": "python",
   "name": "python3"
  },
  "language_info": {
   "codemirror_mode": {
    "name": "ipython",
    "version": 3
   },
   "file_extension": ".py",
   "mimetype": "text/x-python",
   "name": "python",
   "nbconvert_exporter": "python",
   "pygments_lexer": "ipython3",
   "version": "3.9.7"
  },
  "toc": {
   "base_numbering": 1,
   "nav_menu": {},
   "number_sections": false,
   "sideBar": true,
   "skip_h1_title": false,
   "title_cell": "Table of Contents",
   "title_sidebar": "Contents",
   "toc_cell": false,
   "toc_position": {
    "height": "calc(100% - 180px)",
    "left": "10px",
    "top": "150px",
    "width": "261.818px"
   },
   "toc_section_display": true,
   "toc_window_display": true
  }
 },
 "nbformat": 4,
 "nbformat_minor": 5
}
