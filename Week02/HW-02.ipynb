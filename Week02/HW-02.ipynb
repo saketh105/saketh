{
 "cells": [
  {
   "cell_type": "markdown",
   "id": "425024c2",
   "metadata": {},
   "source": [
    "## Homework 2\n",
    "\n",
    "Please complete the functions below. These functions are for to simulate a fair and a biased die. \n",
    "\n",
    "The biased die has probabilities {0.20, 0.10, 0.15, 0.15, 0.15, 0.25}.\n",
    "\n",
    "Create 2 visualizations that shows outcomes of multiple rolls of a fair die and biased die. \n",
    "* Visualization for fair die\n",
    "* Visualization for biased die\n",
    "\n",
    "Repeat the process programatically and take the mean to create a new list. This list will be used to compare means of biased & unbiased dice. \n",
    "* Create a historgram showing means of biased & unbiased die\n",
    "\n",
    "* Use subcharts\n",
    "* All visualizations must have appropriate titles.\n",
    "* There are 3 visualization and expected format is \n",
    "```\n",
    " [V1] [V2]\n",
    " [   V3  ]\n",
    " ```"
   ]
  },
  {
   "cell_type": "code",
   "execution_count": 1,
   "id": "7078d18a",
   "metadata": {},
   "outputs": [],
   "source": [
    "import random \n",
    "import matplotlib.pyplot as plt\n",
    "import numpy as np\n",
    "from statistics import mean\n",
    "\n",
    "trial_count = 500\n",
    "mean_trials=50\n",
    "\n",
    "def fair_die_simulation(trials):\n",
    "    \"\"\"\n",
    "    returns an array of randomly numbers between 1 and 6. \n",
    "    \"\"\"\n",
    "    \n",
    "    options = [1,2,3,4,5,6]\n",
    "    simulations = []\n",
    "    for i in range(trials):\n",
    "        simulations.append(random.choice(options))\n",
    "    return simulations"
   ]
  },
  {
   "cell_type": "code",
   "execution_count": 7,
   "id": "5a02e11e",
   "metadata": {},
   "outputs": [],
   "source": [
    "def biased_die_simuations(trials, weights=[0.20, 0.10, 0.15, 0.15, 0.15, 0.25]):\n",
    "    \"\"\"\n",
    "    returns an array of randomly numbers between 1 and 6 with the probabilty of assosiated weight. \n",
    "    for instance: for weights: [0.25, 0.15, 0.15, 0.15, 0.15, 0.15]\n",
    "    1 has 0.25 change to be selected, 2 has 0.15 chance and so on...\n",
    "    \"\"\"\n",
    "    simulations=[]\n",
    "    \n",
    "    for trial in range(trials):\n",
    "        key=random.random()\n",
    "        sum=0\n",
    "        result=1\n",
    "        for x in weights:\n",
    "            sum += x\n",
    "            if key < sum:\n",
    "                simulations.append(result)\n",
    "                break\n",
    "            result+=1    \n",
    "    \n",
    "    options = [1,2,3,4,5,6]\n",
    "    \n",
    "    return simulations"
   ]
  },
  {
   "cell_type": "code",
   "execution_count": 8,
   "id": "d209b72c",
   "metadata": {},
   "outputs": [],
   "source": [
    "def biased_mean_sims(mean_trials,trial_count):\n",
    "  mean_list = []\n",
    "  for x in range(mean_trials):\n",
    "    sim_result = biased_die_simuations(trial_count)\n",
    "    mean_list.append(mean(sim_result))\n",
    "  \n",
    "  return mean_list\n",
    "\n",
    "\n",
    "def fair_mean_sims(mean_trials,trial_count):\n",
    "  mean_list = []\n",
    "  for x in range(mean_trials):\n",
    "    sim_result = fair_die_simulation(trial_count)\n",
    "    mean_list.append(mean(sim_result))\n",
    "  \n",
    "  return mean_list\n"
   ]
  },
  {
   "cell_type": "code",
   "execution_count": 9,
   "id": "820b8321",
   "metadata": {},
   "outputs": [
    {
     "data": {
      "image/png": "[encoded data removed]",
      "text/plain": [
       "<Figure size 432x288 with 4 Axes>"
      ]
     },
     "metadata": {
      "needs_background": "light"
     },
     "output_type": "display_data"
    }
   ],
   "source": [
    "biased = biased_die_simuations(trial_count)\n",
    "fair = fair_die_simulation(trial_count)\n",
    "\n",
    "biased_mean_list = biased_mean_sims(mean_trials, trial_count)\n",
    "unbiased_mean_list = fair_mean_sims(mean_trials, trial_count)\n",
    "\n",
    "fig, ax = plt.subplots(2, 2)\n",
    "fig.tight_layout(h_pad=2)\n",
    "\n",
    "#define subplot titles\n",
    "ax[0, 0].set_title('Fair die simulation')\n",
    "ax[0, 1].set_title('biased die simulation')\n",
    "ax[1, 0].set_title('Hist of Means of fair die')\n",
    "ax[1, 1].set_title('Hist of Means of biased die')\n",
    "ax[0][0].hist(fair, bins=np.arange(2, 14)/2)\n",
    "ax[0][1].hist(biased, bins=np.arange(2, 14)/2)\n",
    "ax[1][0].hist(unbiased_mean_list)\n",
    "ax[1][1].hist(biased_mean_list)\n",
    "\n",
    "\n",
    "plt.show()\n"
   ]
  },
  {
   "cell_type": "code",
   "execution_count": null,
   "id": "f0801fad",
   "metadata": {},
   "outputs": [],
   "source": []
  },
  {
   "cell_type": "code",
   "execution_count": null,
   "id": "1b6705b2",
   "metadata": {},
   "outputs": [],
   "source": []
  },
  {
   "cell_type": "code",
   "execution_count": null,
   "id": "cb5bcbb9",
   "metadata": {},
   "outputs": [],
   "source": []
  },
  {
   "cell_type": "code",
   "execution_count": null,
   "id": "5bb897fa",
   "metadata": {},
   "outputs": [],
   "source": []
  }
 ],
 "metadata": {
  "kernelspec": {
   "display_name": "Python 3 (ipykernel)",
   "language": "python",
   "name": "python3"
  },
  "language_info": {
   "codemirror_mode": {
    "name": "ipython",
    "version": 3
   },
   "file_extension": ".py",
   "mimetype": "text/x-python",
   "name": "python",
   "nbconvert_exporter": "python",
   "pygments_lexer": "ipython3",
   "version": "3.9.7"
  },
  "toc": {
   "base_numbering": 1,
   "nav_menu": {},
   "number_sections": true,
   "sideBar": true,
   "skip_h1_title": false,
   "title_cell": "Table of Contents",
   "title_sidebar": "Contents",
   "toc_cell": false,
   "toc_position": {},
   "toc_section_display": true,
   "toc_window_display": false
  }
 },
 "nbformat": 4,
 "nbformat_minor": 5
}
