{
 "cells": [
  {
   "cell_type": "markdown",
   "id": "b47b349d",
   "metadata": {},
   "source": [
    "# Homework 4 \n",
    "\n",
    "1. Acquire power data (https://www.bmreports.com/bmrs/?q=demand/rollingsystemdemand/historic) for 7 days (Include each day of the week)\n",
    "\n",
    "1. Create two bar graphs of the power consumption per hour.\n",
    "\n",
    "    * One bar graph has 24 bars showing the average consumption\n",
    "    * One bar graph has 7x24 bars showing the average demand\n",
    "\n",
    "1. Your solution should be committed in your Week04 folder.\n",
    "\n",
    "Graphs must have appropriate labels and there should not be anything extra cluttering. "
   ]
  },
  {
   "cell_type": "code",
   "execution_count": 28,
   "id": "3264039c",
   "metadata": {},
   "outputs": [],
   "source": [
    "import pandas as pd\n",
    "import numpy as np"
   ]
  },
  {
   "cell_type": "code",
   "execution_count": 51,
   "id": "3ac0b807",
   "metadata": {},
   "outputs": [
    {
     "data": {
      "text/html": [
       "<div>\n",
       "<style scoped>\n",
       "    .dataframe tbody tr th:only-of-type {\n",
       "        vertical-align: middle;\n",
       "    }\n",
       "\n",
       "    .dataframe tbody tr th {\n",
       "        vertical-align: top;\n",
       "    }\n",
       "\n",
       "    .dataframe thead th {\n",
       "        text-align: right;\n",
       "    }\n",
       "</style>\n",
       "<table border=\"1\" class=\"dataframe\">\n",
       "  <thead>\n",
       "    <tr style=\"text-align: right;\">\n",
       "      <th></th>\n",
       "      <th>HRD</th>\n",
       "      <th>Time</th>\n",
       "      <th>Demand</th>\n",
       "    </tr>\n",
       "  </thead>\n",
       "  <tbody>\n",
       "    <tr>\n",
       "      <th>0</th>\n",
       "      <td>VD</td>\n",
       "      <td>20220208000000</td>\n",
       "      <td>26695</td>\n",
       "    </tr>\n",
       "    <tr>\n",
       "      <th>1</th>\n",
       "      <td>VD</td>\n",
       "      <td>20220208000500</td>\n",
       "      <td>26815</td>\n",
       "    </tr>\n",
       "    <tr>\n",
       "      <th>2</th>\n",
       "      <td>VD</td>\n",
       "      <td>20220208001000</td>\n",
       "      <td>26848</td>\n",
       "    </tr>\n",
       "    <tr>\n",
       "      <th>3</th>\n",
       "      <td>VD</td>\n",
       "      <td>20220208001500</td>\n",
       "      <td>26812</td>\n",
       "    </tr>\n",
       "    <tr>\n",
       "      <th>4</th>\n",
       "      <td>VD</td>\n",
       "      <td>20220208002000</td>\n",
       "      <td>26736</td>\n",
       "    </tr>\n",
       "  </tbody>\n",
       "</table>\n",
       "</div>"
      ],
      "text/plain": [
       "  HRD            Time  Demand\n",
       "0  VD  20220208000000   26695\n",
       "1  VD  20220208000500   26815\n",
       "2  VD  20220208001000   26848\n",
       "3  VD  20220208001500   26812\n",
       "4  VD  20220208002000   26736"
      ]
     },
     "execution_count": 51,
     "metadata": {},
     "output_type": "execute_result"
    }
   ],
   "source": [
    "df = pd.read_csv(\"RollingSystemDemand_20220301_2102.csv\",\n",
    "                         index_col=False,\n",
    "                         skiprows=1,\n",
    "                         skipfooter=1,\n",
    "                         engine='python',\n",
    "                         header=None)\n",
    "\n",
    "df.columns=['HRD','Time','Demand']\n",
    "\n",
    "df.head()"
   ]
  },
  {
   "cell_type": "code",
   "execution_count": 52,
   "id": "2e863543",
   "metadata": {},
   "outputs": [],
   "source": [
    "df['Time']=pd.to_datetime(df['Time'].astype(str),format='%Y%m%d%H%M%S')"
   ]
  },
  {
   "cell_type": "code",
   "execution_count": 53,
   "id": "31c03b71",
   "metadata": {},
   "outputs": [
    {
     "data": {
      "text/html": [
       "<div>\n",
       "<style scoped>\n",
       "    .dataframe tbody tr th:only-of-type {\n",
       "        vertical-align: middle;\n",
       "    }\n",
       "\n",
       "    .dataframe tbody tr th {\n",
       "        vertical-align: top;\n",
       "    }\n",
       "\n",
       "    .dataframe thead th {\n",
       "        text-align: right;\n",
       "    }\n",
       "</style>\n",
       "<table border=\"1\" class=\"dataframe\">\n",
       "  <thead>\n",
       "    <tr style=\"text-align: right;\">\n",
       "      <th></th>\n",
       "      <th>HRD</th>\n",
       "      <th>Time</th>\n",
       "      <th>Demand</th>\n",
       "    </tr>\n",
       "  </thead>\n",
       "  <tbody>\n",
       "    <tr>\n",
       "      <th>0</th>\n",
       "      <td>VD</td>\n",
       "      <td>2022-02-08 00:00:00</td>\n",
       "      <td>26695</td>\n",
       "    </tr>\n",
       "    <tr>\n",
       "      <th>1</th>\n",
       "      <td>VD</td>\n",
       "      <td>2022-02-08 00:05:00</td>\n",
       "      <td>26815</td>\n",
       "    </tr>\n",
       "    <tr>\n",
       "      <th>2</th>\n",
       "      <td>VD</td>\n",
       "      <td>2022-02-08 00:10:00</td>\n",
       "      <td>26848</td>\n",
       "    </tr>\n",
       "    <tr>\n",
       "      <th>3</th>\n",
       "      <td>VD</td>\n",
       "      <td>2022-02-08 00:15:00</td>\n",
       "      <td>26812</td>\n",
       "    </tr>\n",
       "    <tr>\n",
       "      <th>4</th>\n",
       "      <td>VD</td>\n",
       "      <td>2022-02-08 00:20:00</td>\n",
       "      <td>26736</td>\n",
       "    </tr>\n",
       "    <tr>\n",
       "      <th>...</th>\n",
       "      <td>...</td>\n",
       "      <td>...</td>\n",
       "      <td>...</td>\n",
       "    </tr>\n",
       "    <tr>\n",
       "      <th>1995</th>\n",
       "      <td>VD</td>\n",
       "      <td>2022-02-14 22:15:00</td>\n",
       "      <td>31726</td>\n",
       "    </tr>\n",
       "    <tr>\n",
       "      <th>1996</th>\n",
       "      <td>VD</td>\n",
       "      <td>2022-02-14 22:20:00</td>\n",
       "      <td>31500</td>\n",
       "    </tr>\n",
       "    <tr>\n",
       "      <th>1997</th>\n",
       "      <td>VD</td>\n",
       "      <td>2022-02-14 22:25:00</td>\n",
       "      <td>31242</td>\n",
       "    </tr>\n",
       "    <tr>\n",
       "      <th>1998</th>\n",
       "      <td>VD</td>\n",
       "      <td>2022-02-14 22:30:00</td>\n",
       "      <td>30951</td>\n",
       "    </tr>\n",
       "    <tr>\n",
       "      <th>1999</th>\n",
       "      <td>VD</td>\n",
       "      <td>2022-02-14 22:35:00</td>\n",
       "      <td>30800</td>\n",
       "    </tr>\n",
       "  </tbody>\n",
       "</table>\n",
       "<p>2000 rows × 3 columns</p>\n",
       "</div>"
      ],
      "text/plain": [
       "     HRD                Time  Demand\n",
       "0     VD 2022-02-08 00:00:00   26695\n",
       "1     VD 2022-02-08 00:05:00   26815\n",
       "2     VD 2022-02-08 00:10:00   26848\n",
       "3     VD 2022-02-08 00:15:00   26812\n",
       "4     VD 2022-02-08 00:20:00   26736\n",
       "...   ..                 ...     ...\n",
       "1995  VD 2022-02-14 22:15:00   31726\n",
       "1996  VD 2022-02-14 22:20:00   31500\n",
       "1997  VD 2022-02-14 22:25:00   31242\n",
       "1998  VD 2022-02-14 22:30:00   30951\n",
       "1999  VD 2022-02-14 22:35:00   30800\n",
       "\n",
       "[2000 rows x 3 columns]"
      ]
     },
     "execution_count": 53,
     "metadata": {},
     "output_type": "execute_result"
    }
   ],
   "source": [
    "df"
   ]
  },
  {
   "cell_type": "code",
   "execution_count": 54,
   "id": "1ea335ff",
   "metadata": {},
   "outputs": [],
   "source": [
    "import matplotlib\n",
    "import matplotlib.pyplot as plt"
   ]
  },
  {
   "cell_type": "code",
   "execution_count": null,
   "id": "b3f77c90",
   "metadata": {},
   "outputs": [],
   "source": []
  },
  {
   "cell_type": "code",
   "execution_count": 55,
   "id": "0ed1d003",
   "metadata": {},
   "outputs": [
    {
     "data": {
      "text/plain": [
       "Text(0.5, 1.0, 'Bar graph having 24 bars showing the average consumption')"
      ]
     },
     "execution_count": 55,
     "metadata": {},
     "output_type": "execute_result"
    },
    {
     "data": {
      "image/png": "[encoded data removed]",
      "text/plain": [
       "<Figure size 1440x720 with 1 Axes>"
      ]
     },
     "metadata": {
      "needs_background": "light"
     },
     "output_type": "display_data"
    }
   ],
   "source": [
    "## One bar graph has 24 bars showing the average consumption\n",
    "\n",
    "fig, axs = plt.subplots(figsize=(20,10))\n",
    "df.groupby(df[\"Time\"].dt.hour)[\"Demand\"].mean().plot(kind='bar', rot=0, ax=axs)\n",
    "plt.xlabel(\"Hours\")\n",
    "plt.ylabel(\"Average Consumption\")\n",
    "plt.title(\"Bar graph having 24 bars showing the average consumption\")"
   ]
  },
  {
   "cell_type": "code",
   "execution_count": 56,
   "id": "98806805",
   "metadata": {},
   "outputs": [
    {
     "data": {
      "image/png": "[encoded data removed]",
      "text/plain": [
       "<Figure size 1440x720 with 1 Axes>"
      ]
     },
     "metadata": {
      "needs_background": "light"
     },
     "output_type": "display_data"
    }
   ],
   "source": [
    "## One bar graph has 7x24 bars showing the average demand\n",
    "\n",
    "fig,axs = plt.subplots(figsize=(20, 10))\n",
    "df.groupby(pd.Grouper(key='Time', freq='H')).mean().plot(kind='bar',rot=0, ax=axs)\n",
    "plt.xlabel(\"Days - 2022-01-01 : 2022-01-07\") \n",
    "plt.ylabel(\"Average Demand\") \n",
    "plt.title(\"Bar graph having 7x24 bars showing the average demand\")\n",
    "plt.show()"
   ]
  },
  {
   "cell_type": "code",
   "execution_count": null,
   "id": "ad5d710a",
   "metadata": {},
   "outputs": [],
   "source": []
  }
 ],
 "metadata": {
  "kernelspec": {
   "display_name": "Python 3 (ipykernel)",
   "language": "python",
   "name": "python3"
  },
  "language_info": {
   "codemirror_mode": {
    "name": "ipython",
    "version": 3
   },
   "file_extension": ".py",
   "mimetype": "text/x-python",
   "name": "python",
   "nbconvert_exporter": "python",
   "pygments_lexer": "ipython3",
   "version": "3.9.7"
  },
  "toc": {
   "base_numbering": 1,
   "nav_menu": {},
   "number_sections": true,
   "sideBar": true,
   "skip_h1_title": false,
   "title_cell": "Table of Contents",
   "title_sidebar": "Contents",
   "toc_cell": false,
   "toc_position": {},
   "toc_section_display": true,
   "toc_window_display": false
  }
 },
 "nbformat": 4,
 "nbformat_minor": 5
}
